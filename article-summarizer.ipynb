{
 "cells": [
  {
   "cell_type": "markdown",
   "metadata": {},
   "source": [
    "# Web Mining and Applied NLP (44-620)\n",
    "\n",
    "## Final Project: Article Summarizer\n",
    "\n",
    "### Student Name: Adeyemi Toba\n",
    "\n",
    "Perform the tasks described in the Markdown cells below.  When you have completed the assignment make sure your code cells have all been run (and have output beneath them) and ensure you have committed and pushed ALL of your changes to your assignment repository.\n",
    "\n",
    "You should bring in code from previous assignments to help you answer the questions below.\n",
    "\n",
    "Every question that requires you to write code will have a code cell underneath it; you may either write your entire solution in that cell or write it in a python file (`.py`), then import and run the appropriate code to answer the question."
   ]
  },
  {
   "cell_type": "code",
   "execution_count": 1,
   "metadata": {},
   "outputs": [
    {
     "name": "stdout",
     "output_type": "stream",
     "text": [
      "Package                   Version\n",
      "------------------------- ---------------\n",
      "annotated-types           0.6.0\n",
      "anyio                     4.2.0\n",
      "argon2-cffi               23.1.0\n",
      "argon2-cffi-bindings      21.2.0\n",
      "arrow                     1.3.0\n",
      "asttokens                 2.4.1\n",
      "async-lru                 2.0.4\n",
      "attrs                     23.2.0\n",
      "Babel                     2.14.0\n",
      "beautifulsoup4            4.12.3\n",
      "bleach                    6.1.0\n",
      "blis                      0.7.11\n",
      "catalogue                 2.0.10\n",
      "certifi                   2023.11.17\n",
      "cffi                      1.16.0\n",
      "charset-normalizer        3.3.2\n",
      "click                     8.1.7\n",
      "cloudpathlib              0.16.0\n",
      "colorama                  0.4.6\n",
      "comm                      0.2.1\n",
      "confection                0.1.4\n",
      "contourpy                 1.2.0\n",
      "cycler                    0.12.1\n",
      "cymem                     2.0.8\n",
      "debugpy                   1.8.0\n",
      "decorator                 5.1.1\n",
      "defusedxml                0.7.1\n",
      "en-core-web-sm            3.7.1\n",
      "executing                 2.0.1\n",
      "fastjsonschema            2.19.1\n",
      "fonttools                 4.47.2\n",
      "fqdn                      1.5.1\n",
      "idna                      3.6\n",
      "ipykernel                 6.29.0\n",
      "ipython                   8.20.0\n",
      "isoduration               20.11.0\n",
      "jedi                      0.19.1\n",
      "Jinja2                    3.1.3\n",
      "joblib                    1.3.2\n",
      "json5                     0.9.14\n",
      "jsonpointer               2.4\n",
      "jsonschema                4.21.1\n",
      "jsonschema-specifications 2023.12.1\n",
      "jupyter_client            8.6.0\n",
      "jupyter_core              5.7.1\n",
      "jupyter-events            0.9.0\n",
      "jupyter-lsp               2.2.2\n",
      "jupyter_server            2.12.5\n",
      "jupyter_server_terminals  0.5.2\n",
      "jupyterlab                4.0.11\n",
      "jupyterlab_pygments       0.3.0\n",
      "jupyterlab_server         2.25.2\n",
      "kiwisolver                1.4.5\n",
      "langcodes                 3.3.0\n",
      "MarkupSafe                2.1.4\n",
      "matplotlib                3.8.2\n",
      "matplotlib-inline         0.1.6\n",
      "mistune                   3.0.2\n",
      "murmurhash                1.0.10\n",
      "nbclient                  0.9.0\n",
      "nbconvert                 7.16.0\n",
      "nbformat                  5.9.2\n",
      "nest-asyncio              1.6.0\n",
      "nltk                      3.8.1\n",
      "notebook                  7.0.7\n",
      "notebook_shim             0.2.3\n",
      "numpy                     1.26.3\n",
      "overrides                 7.7.0\n",
      "packaging                 23.2\n",
      "pandas                    2.2.0\n",
      "pandocfilters             1.5.1\n",
      "parso                     0.8.3\n",
      "pillow                    10.2.0\n",
      "pip                       24.0\n",
      "platformdirs              4.1.0\n",
      "preshed                   3.0.9\n",
      "prometheus-client         0.19.0\n",
      "prompt-toolkit            3.0.43\n",
      "psutil                    5.9.8\n",
      "pure-eval                 0.2.2\n",
      "pyarrow                   15.0.0\n",
      "pycparser                 2.21\n",
      "pydantic                  2.6.4\n",
      "pydantic_core             2.16.3\n",
      "Pygments                  2.17.2\n",
      "pyparsing                 3.1.1\n",
      "python-dateutil           2.8.2\n",
      "python-json-logger        2.0.7\n",
      "pytz                      2023.4\n",
      "pywin32                   306\n",
      "pywinpty                  2.0.12\n",
      "PyYAML                    6.0.1\n",
      "pyzmq                     25.1.2\n",
      "referencing               0.33.0\n",
      "regex                     2023.12.25\n",
      "requests                  2.31.0\n",
      "rfc3339-validator         0.1.4\n",
      "rfc3986-validator         0.1.1\n",
      "rpds-py                   0.17.1\n",
      "scipy                     1.12.0\n",
      "seaborn                   0.13.2\n",
      "Send2Trash                1.8.2\n",
      "setuptools                69.2.0\n",
      "six                       1.16.0\n",
      "smart-open                6.4.0\n",
      "sniffio                   1.3.0\n",
      "soupsieve                 2.5\n",
      "spacy                     3.7.4\n",
      "spacy-legacy              3.0.12\n",
      "spacy-loggers             1.0.5\n",
      "spacytextblob             4.0.0\n",
      "srsly                     2.4.8\n",
      "stack-data                0.6.3\n",
      "terminado                 0.18.0\n",
      "textblob                  0.15.3\n",
      "thinc                     8.2.3\n",
      "tinycss2                  1.2.1\n",
      "tornado                   6.4\n",
      "tqdm                      4.66.2\n",
      "traitlets                 5.14.1\n",
      "typer                     0.9.0\n",
      "types-python-dateutil     2.8.19.20240106\n",
      "typing_extensions         4.10.0\n",
      "tzdata                    2023.4\n",
      "uri-template              1.3.0\n",
      "urllib3                   2.1.0\n",
      "wasabi                    1.1.2\n",
      "wcwidth                   0.2.13\n",
      "weasel                    0.3.4\n",
      "webcolors                 1.13\n",
      "webencodings              0.5.1\n",
      "websocket-client          1.7.0\n",
      "All prereqs installed.\n"
     ]
    }
   ],
   "source": [
    "import requests\n",
    "from bs4 import BeautifulSoup\n",
    "import pickle\n",
    "import spacy\n",
    "from spacytextblob.spacytextblob import SpacyTextBlob\n",
    "from textblob import TextBlob\n",
    "import numpy as np\n",
    "import pandas as pd\n",
    "import matplotlib.pyplot as plt\n",
    "!pip list\n",
    "print('All prereqs installed.')"
   ]
  },
  {
   "cell_type": "markdown",
   "metadata": {},
   "source": [
    "## Question 1"
   ]
  },
  {
   "cell_type": "markdown",
   "metadata": {},
   "source": [
    "1. Find on the internet an article or blog post about a topic that interests you and you are able to get the text for using the technologies we have applied in the course.  Get the html for the article and store it in a file (which you must submit with your project)"
   ]
  },
  {
   "cell_type": "code",
   "execution_count": 1,
   "metadata": {},
   "outputs": [
    {
     "name": "stdout",
     "output_type": "stream",
     "text": [
      "Article HTML content has been saved to 'article.html'\n"
     ]
    }
   ],
   "source": [
    "import requests\n",
    "\n",
    "# URL of the article\n",
    "url = \"https://www.cnn.com/2013/07/30/world/nato-fast-facts/index.html/\"\n",
    "\n",
    "# Send a GET request to the URL\n",
    "response = requests.get(url)\n",
    "\n",
    "# Check if the request was successful (status code 200)\n",
    "if response.status_code == 200:\n",
    "    # Get the HTML content of the webpage\n",
    "    html_content = response.text\n",
    "    \n",
    "    # Save the HTML content to a file\n",
    "    with open(\"article.html\", \"w\", encoding=\"utf-8\") as f:\n",
    "        f.write(html_content)\n",
    "        \n",
    "    print(\"Article HTML content has been saved to 'article.html'\")\n",
    "else:\n",
    "    print(\"Failed to retrieve the article. Status code:\", response.status_code)"
   ]
  },
  {
   "cell_type": "code",
   "execution_count": 6,
   "metadata": {},
   "outputs": [
    {
     "name": "stdout",
     "output_type": "stream",
     "text": [
      "Article content has been saved to 'article.txt'\n"
     ]
    }
   ],
   "source": [
    "from bs4 import BeautifulSoup\n",
    "\n",
    "# Read the HTML content from the saved file\n",
    "with open('article.html', 'r', encoding='utf-8') as file:\n",
    "    html_content = file.read()\n",
    "\n",
    "# Parse HTML and extract plain text\n",
    "soup = BeautifulSoup(html_content, 'html.parser')\n",
    "article_text = soup.get_text()\n",
    "\n",
    "# Save plain text to a new file\n",
    "with open('article.txt', 'w', encoding='utf-8') as file:\n",
    "    file.write(article_text)\n",
    "\n",
    "print(\"Article content has been saved to 'article.txt'\")"
   ]
  },
  {
   "cell_type": "code",
   "execution_count": 7,
   "metadata": {},
   "outputs": [
    {
     "name": "stdout",
     "output_type": "stream",
     "text": [
      "200\n",
      "text/html; charset=utf-8\n"
     ]
    }
   ],
   "source": [
    "import requests\n",
    "url = \"https://www.cnn.com/2013/07/30/world/nato-fast-facts/index.html/\"\n",
    "\n",
    "response = requests.get(\"https://www.cnn.com/2013/07/30/world/nato-fast-facts/index.html/\")\n",
    "\n",
    "print(response.status_code)\n",
    "print(response.headers['content-type'])"
   ]
  },
  {
   "cell_type": "code",
   "execution_count": 8,
   "metadata": {},
   "outputs": [
    {
     "name": "stdout",
     "output_type": "stream",
     "text": [
      "<article class=\"article\" data-regwall-disabled=\"false\" data-unselectable=\"true\" data-uri=\"archive.cms.cnn.com/_components/article/instances/h_630e6875383c02ed2afd65dee9a0a8e2@published\" role=\"main\">\n",
      "<script>\n",
      "          window.CNN.contentModel.leadingMediaType = 'image';\n",
      "          window.CNN.contentModel.isVideoCollection = false;\n",
      "      </script>\n",
      "<section class=\"body tabcontent active\" data-tabcontent=\"Content\">\n",
      "<main class=\"article__main\">\n",
      "<div class=\"image__lede article__lede-wrapper\" data-editable=\"lede\" data-freewheel-lede=\"true\">\n",
      "<div class=\"image image__hide-placeholder\" data-breakpoints='{\"image--eq-extra-small\": 115, \"image--eq-small\": 300}' data-component-name=\"image\" data-editable=\"settings\" data-image-variation=\"image\" data-name=\"NATO Flag\" data-observe-resizes=\"\" data-original-height=\"1729\" data-original-ratio=\"0.6667952178943309\" data-original-width=\"2593\" data-uri=\"archive.cms.cnn.com/_components/image/instances/lede-2726698609203c2630860b987ece667f@published\" data-url=\"https://media.cnn.com/api/v1/images/stellar/prod/191128025909-nato-flag.jpg?q=w_2593,h_1729,x_0,y_0,c_fill\">\n",
      "<script>function imageLoadError(img) {\n",
      "    const fallbackImage = '/media/sites/cnn/cnn-fallback-image.jpg';\n",
      "\n",
      "    img.removeAttribute('onerror');\n",
      "    img.src = fallbackImage;\n",
      "    let element = img.previousElementSibling;\n",
      "\n",
      "    while (element && element.tagName === 'SOURCE') {\n",
      "      element.srcset = fallbackImage;\n",
      "      element = element.previousElementSibling;\n",
      "    }\n",
      "  }</script>\n",
      "<div class=\"image__container\" data-breakpoints='{\"image--eq-extra-small\": 115, \"image--eq-small\": 300, \"image--show-credits\": 596}' data-image-variation=\"image\">\n",
      "<picture class=\"image__picture\"><source height=\"383\" media=\"(max-width: 479px)\" srcset=\"https://media.cnn.com/api/v1/images/stellar/prod/191128025909-nato-flag.jpg?q=x_0,y_135,h_1459,w_2593,c_crop/h_383,w_680/f_webp\" type=\"image/webp\" width=\"680\"/><source height=\"653\" media=\"(min-width: 480px)\" srcset=\"https://media.cnn.com/api/v1/images/stellar/prod/191128025909-nato-flag.jpg?q=x_0,y_135,h_1459,w_2593,c_crop/h_653,w_1160/f_webp\" type=\"image/webp\" width=\"1160\"/><source height=\"605\" media=\"(min-width: 960px)\" srcset=\"https://media.cnn.com/api/v1/images/stellar/prod/191128025909-nato-flag.jpg?q=x_0,y_135,h_1459,w_2593,c_crop/h_605,w_1075/f_webp\" type=\"image/webp\" width=\"1075\"/><source height=\"833\" media=\"(min-width: 1280px)\" srcset=\"https://media.cnn.com/api/v1/images/stellar/prod/191128025909-nato-flag.jpg?q=x_0,y_135,h_1459,w_2593,c_crop/h_833,w_1480/f_webp\" type=\"image/webp\" width=\"1480\"/><img alt=\"NATO flag at the NATO headquarters in Brussels\" class=\"image__dam-img image__dam-img--loading\" height=\"1729\" onerror=\"imageLoadError(this)\" onload=\"this.classList.remove('image__dam-img--loading')\" src=\"https://media.cnn.com/api/v1/images/stellar/prod/191128025909-nato-flag.jpg?q=x_0,y_135,h_1459,w_2593,c_crop/h_833,w_1480\" width=\"2593\"/></picture>\n",
      "</div>\n",
      "<div class=\"image__metadata\">\n",
      "<div class=\"image__caption attribution\" itemprop=\"caption\">\n",
      "<span class=\"inline-placeholder\" data-editable=\"metaCaption\">NATO flag at the NATO headquarters in Brussels</span>\n",
      "</div>\n",
      "<figcaption class=\"image__credit\">KENZO TRIBOUILLARD/AFP/AFP via Getty Images</figcaption>\n",
      "</div>\n",
      "</div>\n",
      "</div>\n",
      "<div class=\"article__content-container\">\n",
      "<div class=\"article__content\" data-editable=\"content\" data-reorderable=\"content\" itemprop=\"articleBody\">\n",
      "<div class=\"source inline-placeholder\" data-article-gutter=\"true\" data-uri=\"archive.cms.cnn.com/_components/source/instances/source-h_630e6875383c02ed2afd65dee9a0a8e2@published\">\n",
      "<cite class=\"source__cite\">\n",
      "<span class=\"source__location\" data-editable=\"location\"></span>\n",
      "<span class=\"source__text\" data-editable=\"source\">CNN</span>\n",
      "         — \n",
      "    </cite>\n",
      "</div>\n",
      "<p class=\"paragraph inline-placeholder\" data-article-gutter=\"true\" data-component-name=\"paragraph\" data-editable=\"text\" data-uri=\"archive.cms.cnn.com/_components/paragraph/instances/paragraph_605A631F-610C-2B17-1886-BA5C98E49FA3@published\">\n",
      "            Here’s a look at the <a href=\"http://www.nato.int/cps/en/natolive/index.htm\" target=\"_blank\">North Atlantic Treaty Organization (NATO),</a> headquartered in Brussels, Belgium.\n",
      "    </p>\n",
      "<h2 class=\"subheader\" data-article-gutter=\"true\" data-component-name=\"subheader\" data-editable=\"text\" data-uri=\"archive.cms.cnn.com/_components/subheader/instances/paragraph_A463D9EE-C2DF-7ECF-E76E-5A5A0EBE3C32@published\" id=\"facts\">\n",
      "    Facts\n",
      "</h2>\n",
      "<p class=\"paragraph inline-placeholder\" data-article-gutter=\"true\" data-component-name=\"paragraph\" data-editable=\"text\" data-uri=\"archive.cms.cnn.com/_components/paragraph/instances/paragraph_C6268744-300C-C5F4-BF8B-5A5A0EBEE0A7@published\">\n",
      "            The organization’s charter states that the signing parties will “seek to promote stability and well-being in the North Atlantic area,” and will “unite their efforts for collective defense and for the preservation of peace and security.”\n",
      "    </p>\n",
      "<p class=\"paragraph inline-placeholder\" data-article-gutter=\"true\" data-component-name=\"paragraph\" data-editable=\"text\" data-uri=\"archive.cms.cnn.com/_components/paragraph/instances/paragraph_1918CB9C-6DBE-34F3-5D4B-BA5FDC3C51BC@published\">\n",
      "<strong>April 4, 1949 -</strong> NATO is established.\n",
      "    </p>\n",
      "<p class=\"paragraph inline-placeholder\" data-article-gutter=\"true\" data-component-name=\"paragraph\" data-editable=\"text\" data-uri=\"archive.cms.cnn.com/_components/paragraph/instances/paragraph_852035F3-A14A-FEE4-489F-BA5FE8E93F8B@published\">\n",
      "<strong>2014-present -</strong> The current secretary general is <a href=\"http://www.nato.int/cps/en/natohq/who_is_who_49999.htm\" target=\"_blank\">Jens Stoltenberg,</a> former prime minister of Norway. On March 24, 2022, Stoltenberg’s tenure was extended by one year due to Russia’s invasion of Ukraine.\n",
      "    </p>\n",
      "<p class=\"paragraph inline-placeholder\" data-article-gutter=\"true\" data-component-name=\"paragraph\" data-editable=\"text\" data-uri=\"archive.cms.cnn.com/_components/paragraph/instances/paragraph_A9F3C46D-514E-C141-E0DE-4F8D951D0DC6@published\">\n",
      "<strong>March 14, 2024 - </strong>The secretary general’s<a href=\"https://www.nato.int/cps/en/natohq/opinions_223291.htm\" target=\"_blank\"> annual report </a>is released.\n",
      "    </p>\n",
      "<h2 class=\"subheader\" data-article-gutter=\"true\" data-component-name=\"subheader\" data-editable=\"text\" data-uri=\"archive.cms.cnn.com/_components/subheader/instances/paragraph_CA340BEB-792C-3971-8BFF-5A59F8573F22@published\" id=\"32-member-countries\">\n",
      "    32 Member Countries\n",
      "</h2>\n",
      "<p class=\"paragraph inline-placeholder\" data-article-gutter=\"true\" data-component-name=\"paragraph\" data-editable=\"text\" data-uri=\"archive.cms.cnn.com/_components/paragraph/instances/paragraph_F3FC4CB4-1420-9852-89E4-5A59F855BE71@published\">\n",
      "            Albania (2009)<br/>Belgium (1949)<br/>Bulgaria (2004)<br/>Canada (1949)<br/>Croatia (2009)<br/>Czech Republic (1999)<br/>Denmark (1949)<br/>Estonia (2004)<br/>Finland (2023)<br/>France (1949)<br/>Germany (1955, as West Germany)<br/>Greece (1952)<br/>Hungary (1999)<br/>Iceland (1949)<br/>Italy (1949)<br/>Latvia (2004)<br/>Lithuania (2004)<br/>Luxembourg (1949)<br/>Montenegro (2017)<br/>Netherlands (1949)<br/>North Macedonia (2020)<br/>Norway (1949)<br/>Poland (1999)<br/>Portugal (1949)<br/>Romania (2004)<br/>Slovakia (2004)<br/>Slovenia (2004)<br/>Spain (1982)<br/>Sweden (2024)<br/>Turkey (1952)<br/>United Kingdom (1949)<br/>United States (1949)\n",
      "    </p>\n",
      "<h2 class=\"subheader\" data-article-gutter=\"true\" data-component-name=\"subheader\" data-editable=\"text\" data-uri=\"archive.cms.cnn.com/_components/subheader/instances/paragraph_2F13FD0E-03CA-66BC-F75A-5A5A63F3EBB5@published\" id=\"timeline\">\n",
      "    Timeline (selected)\n",
      "</h2>\n",
      "<p class=\"paragraph inline-placeholder\" data-article-gutter=\"true\" data-component-name=\"paragraph\" data-editable=\"text\" data-uri=\"archive.cms.cnn.com/_components/paragraph/instances/paragraph_34C9A595-DE0C-8227-24D7-5A5A63F31BDD@published\">\n",
      "<strong>April 4, 1949 -</strong> The 12 nations of Belgium, Canada, Denmark, France, Iceland, Italy, Luxembourg, the Netherlands, Norway, Portugal, the United Kingdom and the United States sign the North Atlantic Treaty in Washington, DC.\n",
      "    </p>\n",
      "<p class=\"paragraph inline-placeholder\" data-article-gutter=\"true\" data-component-name=\"paragraph\" data-editable=\"text\" data-uri=\"archive.cms.cnn.com/_components/paragraph/instances/paragraph_21923127-39E4-AA87-8232-BA62D4AFFC28@published\">\n",
      "<strong>July 25, 1950 -</strong> First meeting of NATO Council Deputies in London. US Ambassador Charles M. Spofford is elected permanent chairman. \n",
      "    </p>\n",
      "<p class=\"paragraph inline-placeholder\" data-article-gutter=\"true\" data-component-name=\"paragraph\" data-editable=\"text\" data-uri=\"archive.cms.cnn.com/_components/paragraph/instances/paragraph_9F7DAD0E-558B-E52D-9524-BA62DEBDA2AA@published\">\n",
      "<strong>December 19, 1950 - </strong>US General Dwight Eisenhower is appointed the first supreme allied commander. The position leads NATO’s military operations.\n",
      "    </p>\n",
      "<p class=\"paragraph inline-placeholder\" data-article-gutter=\"true\" data-component-name=\"paragraph\" data-editable=\"text\" data-uri=\"archive.cms.cnn.com/_components/paragraph/instances/paragraph_9D27B54A-958C-7921-4B64-BA62F3F156E9@published\">\n",
      "<strong>March 12, 1952 - </strong>Lord Ismay is named the first secretary general of NATO and appointed vice chairman of the North Atlantic Council, which oversees NATO’s political decisions. \n",
      "    </p>\n",
      "<p class=\"paragraph inline-placeholder\" data-article-gutter=\"true\" data-component-name=\"paragraph\" data-editable=\"text\" data-uri=\"archive.cms.cnn.com/_components/paragraph/instances/paragraph_832E1F0A-56EC-C01C-21CF-BA6307B000CE@published\">\n",
      "<strong>April 16, 1952 -</strong> NATO establishes its provisional headquarters in Paris at the Palais de Chaillot.\n",
      "    </p>\n",
      "<p class=\"paragraph inline-placeholder\" data-article-gutter=\"true\" data-component-name=\"paragraph\" data-editable=\"text\" data-uri=\"archive.cms.cnn.com/_components/paragraph/instances/paragraph_FD080C96-07C1-40B0-3C7B-BA631180B57A@published\">\n",
      "<strong>April 28, 1952 -</strong> First meeting of the North Atlantic Council in permanent session in Paris. \n",
      "    </p>\n",
      "<p class=\"paragraph inline-placeholder\" data-article-gutter=\"true\" data-component-name=\"paragraph\" data-editable=\"text\" data-uri=\"archive.cms.cnn.com/_components/paragraph/instances/paragraph_4A0D9B57-03C7-D372-52D1-BA631BBCC271@published\">\n",
      "<strong>May 6, 1952 -</strong> West Germany joins NATO.\n",
      "    </p>\n",
      "<p class=\"paragraph inline-placeholder\" data-article-gutter=\"true\" data-component-name=\"paragraph\" data-editable=\"text\" data-uri=\"archive.cms.cnn.com/_components/paragraph/instances/paragraph_F8DCF34A-88BB-68AE-A1C7-BA6336FA07EA@published\">\n",
      "<strong>May 14, 1955 - </strong>The Soviet Union and Eastern Bloc countries form the Warsaw Pact in response to West Germany joining NATO. \n",
      "    </p>\n",
      "<p class=\"paragraph inline-placeholder\" data-article-gutter=\"true\" data-component-name=\"paragraph\" data-editable=\"text\" data-uri=\"archive.cms.cnn.com/_components/paragraph/instances/paragraph_49474160-C24D-BD7F-AE38-BA63404D87AE@published\">\n",
      "<strong>July 26, 1956 - </strong>Egypt nationalizes the Suez Canal. France and Great Britain use troops to intervene, against the wishes of the United States, causing a rift in NATO.\n",
      "    </p>\n",
      "<p class=\"paragraph inline-placeholder\" data-article-gutter=\"true\" data-component-name=\"paragraph\" data-editable=\"text\" data-uri=\"archive.cms.cnn.com/_components/paragraph/instances/paragraph_0BA883F9-E066-A917-3786-BA63541BBE10@published\">\n",
      "<strong>October 22-23, 1963 - </strong>NATO and the United States demonstrate the size and speed of emergency forces when flying 14,500 US troops into West Germany for maneuvers.\n",
      "    </p>\n",
      "<p class=\"paragraph inline-placeholder\" data-article-gutter=\"true\" data-component-name=\"paragraph\" data-editable=\"text\" data-uri=\"archive.cms.cnn.com/_components/paragraph/instances/paragraph_165BF481-0E2B-A5BE-A143-BA635D4E8C62@published\">\n",
      "<strong>March 10, 1966 - </strong>France formally announces intentions to withdraw from the military structure of NATO, accusing the United States of having too much influence in the organization. \n",
      "    </p>\n",
      "<p class=\"paragraph inline-placeholder\" data-article-gutter=\"true\" data-component-name=\"paragraph\" data-editable=\"text\" data-uri=\"archive.cms.cnn.com/_components/paragraph/instances/paragraph_FDA75498-FBC3-BAE7-3DD5-BA636A1A6B63@published\">\n",
      "<strong>March 31, 1967 - </strong>Opening ceremony of new NATO headquarters in Casteau, near Mons, Belgium.\n",
      "    </p>\n",
      "<p class=\"paragraph inline-placeholder\" data-article-gutter=\"true\" data-component-name=\"paragraph\" data-editable=\"text\" data-uri=\"archive.cms.cnn.com/_components/paragraph/instances/paragraph_CA717E46-51B7-37B0-E36C-BA638661C81A@published\">\n",
      "<strong>August 14, 1974 - </strong>Greece, angered at NATO’s response to the Turkish invasion of Cyprus, withdraws from the military arm of NATO.\n",
      "    </p>\n",
      "<p class=\"paragraph inline-placeholder\" data-article-gutter=\"true\" data-component-name=\"paragraph\" data-editable=\"text\" data-uri=\"archive.cms.cnn.com/_components/paragraph/instances/paragraph_290B1D0D-0E0D-D26E-ED96-BA638EF825D6@published\">\n",
      "<strong>October 20, 1980 -</strong> Greece rejoins the NATO military structure.\n",
      "    </p>\n",
      "<p class=\"paragraph inline-placeholder\" data-article-gutter=\"true\" data-component-name=\"paragraph\" data-editable=\"text\" data-uri=\"archive.cms.cnn.com/_components/paragraph/instances/paragraph_73F8E60A-D9AC-B8B0-4191-BA639704B9C4@published\">\n",
      "<strong>May 30, 1982 -</strong> Spain joins NATO.\n",
      "    </p>\n",
      "<p class=\"paragraph inline-placeholder\" data-article-gutter=\"true\" data-component-name=\"paragraph\" data-editable=\"text\" data-uri=\"archive.cms.cnn.com/_components/paragraph/instances/paragraph_44A40F39-7075-FFEE-D38C-BA63AA8435FF@published\">\n",
      "<strong>October 3, 1990 - </strong><a href=\"https://www.cnn.com/2013/09/15/world/europe/berlin-wall-fast-facts/index.html\" target=\"_blank\">Germany is reunified after 45 years</a>. East Germany leaves the Warsaw Pact and is incorporated into NATO. In 1991, the<strong> </strong><a href=\"https://www.nato.int/cps/us/natohq/declassified_138294.htm\" target=\"_blank\">Warsaw Pact is dissolved.</a>\n",
      "</p>\n",
      "<p class=\"paragraph inline-placeholder\" data-article-gutter=\"true\" data-component-name=\"paragraph\" data-editable=\"text\" data-uri=\"archive.cms.cnn.com/_components/paragraph/instances/paragraph_6695C55F-3190-1EFB-EA6E-BA640B0A0CF7@published\">\n",
      "<strong>December 13, 1991 -</strong> For the first time, the Soviet Union takes part in meetings at NATO as part of the North Atlantic Cooperation Council. \n",
      "    </p>\n",
      "<p class=\"paragraph inline-placeholder\" data-article-gutter=\"true\" data-component-name=\"paragraph\" data-editable=\"text\" data-uri=\"archive.cms.cnn.com/_components/paragraph/instances/paragraph_EE935CA9-AB2D-4CB0-FE2F-BA6418348B24@published\">\n",
      "<strong>December 21, 1991 -</strong> Eleven of the republics of the former Soviet Union create a new Commonwealth of Independent States. On December 25, the<strong> </strong>Soviet Union is officially disbanded with the resignation of <a href=\"http://www.cnn.com/2013/01/11/world/europe/mikhail-gorbachev---fast-facts/index.html\">Mikhail Gorbachev</a> as president and supreme commander-in-chief of Soviet Forces.\n",
      "    </p>\n",
      "<p class=\"paragraph inline-placeholder\" data-article-gutter=\"true\" data-component-name=\"paragraph\" data-editable=\"text\" data-uri=\"archive.cms.cnn.com/_components/paragraph/instances/paragraph_42314405-856E-5459-1FA5-BA642C60FFDE@published\">\n",
      "<strong>February 28, 1994 - </strong>NATO forces shoot down four Bosnian Serb planes violating the UN-imposed no-fly zone. It is the first time NATO has used force.\n",
      "    </p>\n",
      "<p class=\"paragraph inline-placeholder\" data-article-gutter=\"true\" data-component-name=\"paragraph\" data-editable=\"text\" data-uri=\"archive.cms.cnn.com/_components/paragraph/instances/paragraph_B671ACD0-C2DF-B68D-1880-BA643758A929@published\">\n",
      "<strong>November 21, 1995 -</strong> After the Dayton Peace Accords, the war in Bosnia Herzegovina ends. In December, <a href=\"https://www.nato.int/cps/us/natohq/declassified_139339.htm?selectedLocale=en\" target=\"_blank\">NATO deploys Implementation Force (IFOR) to support the agreement</a>.\n",
      "    </p>\n",
      "<p class=\"paragraph inline-placeholder\" data-article-gutter=\"true\" data-component-name=\"paragraph\" data-editable=\"text\" data-uri=\"archive.cms.cnn.com/_components/paragraph/instances/paragraph_6515718E-4283-AFF3-9958-BA6449FD0F9F@published\">\n",
      "<strong>January 13, 1996 - </strong>Russian troops are deployed to support IFOR in Bosnia.\n",
      "    </p>\n",
      "<p class=\"paragraph inline-placeholder\" data-article-gutter=\"true\" data-component-name=\"paragraph\" data-editable=\"text\" data-uri=\"archive.cms.cnn.com/_components/paragraph/instances/paragraph_1029931A-BCBF-7A46-9E98-BA6455340E01@published\">\n",
      "<strong>May 22, 1997 -</strong> NATO and the Russian Federation sign a security and cooperation pact, the “Founding Act” which establishes a NATO-Russia Permanent Joint Council (PJC).\n",
      "    </p>\n",
      "<p class=\"paragraph inline-placeholder\" data-article-gutter=\"true\" data-component-name=\"paragraph\" data-editable=\"text\" data-uri=\"archive.cms.cnn.com/_components/paragraph/instances/paragraph_83288A8B-8E91-8018-DDAB-BA645E39320E@published\">\n",
      "<strong>March 24, 1999 -</strong> NATO launches air strikes against Yugoslavia to end Serbian aggression in the Kosovo region.\n",
      "    </p>\n",
      "<p class=\"paragraph inline-placeholder\" data-article-gutter=\"true\" data-component-name=\"paragraph\" data-editable=\"text\" data-uri=\"archive.cms.cnn.com/_components/paragraph/instances/paragraph_5857C943-5EBF-12A2-167E-BA64AC4954BD@published\">\n",
      "<strong>September 12, 2001 - </strong>For the first time, NATO invokes <a href=\"http://www.nato.int/docu/speech/2001/s011004b.htm\" target=\"_blank\">Article V, the Washington Treaty,</a> its mutual defense clause, in support of the United States after the <a href=\"http://www.cnn.com/2013/07/27/us/september-11-anniversary-fast-facts/index.html\">September 11 terror attacks. </a>\n",
      "</p>\n",
      "<p class=\"paragraph inline-placeholder\" data-article-gutter=\"true\" data-component-name=\"paragraph\" data-editable=\"text\" data-uri=\"archive.cms.cnn.com/_components/paragraph/instances/paragraph_757C39A8-BB3D-3641-D3B6-BA64BF3C744D@published\">\n",
      "<strong>May 28, 2002 - </strong>NATO and Russia form the NATO-Russia Council (NRC), which makes Russia an associate member of the organization. The NRC replaces the PJC.\n",
      "    </p>\n",
      "<p class=\"paragraph inline-placeholder\" data-article-gutter=\"true\" data-component-name=\"paragraph\" data-editable=\"text\" data-uri=\"archive.cms.cnn.com/_components/paragraph/instances/paragraph_B39570EA-E4B5-D9E9-FDC5-BA64C6CBC9EE@published\">\n",
      "<strong>November 21-22, 2002 -</strong> During the Prague Summit, NATO invites seven former Eastern Bloc countries, Bulgaria, Estonia, Latvia, Lithuania, Romania, Slovakia and Slovenia, to discuss entry into the organization.\n",
      "    </p>\n",
      "<p class=\"paragraph inline-placeholder\" data-article-gutter=\"true\" data-component-name=\"paragraph\" data-editable=\"text\" data-uri=\"archive.cms.cnn.com/_components/paragraph/instances/paragraph_CF979CFF-DEDA-0284-9180-BA64CE1B1AB6@published\">\n",
      "<strong>December 4, 2002 - </strong><a href=\"http://www.cnn.com/2012/12/31/us/paul-wolfowitz---fast-facts/index.html\">US Deputy Defense Secretary Paul Wolfowitz</a> speaks before NATO in Brussels and requests that member nations contribute forces to a potential campaign in Iraq.\n",
      "    </p>\n",
      "<p class=\"paragraph inline-placeholder\" data-article-gutter=\"true\" data-component-name=\"paragraph\" data-editable=\"text\" data-uri=\"archive.cms.cnn.com/_components/paragraph/instances/paragraph_D2792F9A-9271-7C99-3DC4-BA64D8099E1B@published\">\n",
      "<strong>January 22, 2003 - </strong>France and Germany block discussion on war preparations submitted by the United States. The US proposal included provisions for Turkey’s defense, the use of NATO equipment, and NATO’s postwar role in Iraq.\n",
      "    </p>\n",
      "<p class=\"paragraph inline-placeholder\" data-article-gutter=\"true\" data-component-name=\"paragraph\" data-editable=\"text\" data-uri=\"archive.cms.cnn.com/_components/paragraph/instances/paragraph_A8FC0857-8EAC-C5BE-6BDE-BA64EB2C82F9@published\">\n",
      "<strong>February 10, 2003 - </strong>France, Germany and Belgium block a US request that NATO provide Patriot missiles, Airborne Warning and Control System (AWACS) aircraft, and other equipment to Turkey. The United States had made the request anticipating that Iraq will retaliate against Turkey in the event of war. Turkey invokes article IV of the NATO charter, which requires the organization as a whole to discuss security threats to any member nation.\n",
      "    </p>\n",
      "<p class=\"paragraph inline-placeholder\" data-article-gutter=\"true\" data-component-name=\"paragraph\" data-editable=\"text\" data-uri=\"archive.cms.cnn.com/_components/paragraph/instances/paragraph_09795C38-BC92-6F34-D08F-BA650B2A329B@published\">\n",
      "<strong>February 16, 2003 -</strong> NATO produces three defensive plans for Turkey, in the event of a US <a href=\"http://www.cnn.com/2013/10/30/world/meast/operation-iraqi-freedom-and-operation-new-dawn-fast-facts/index.html\">war with Iraq:</a><br/>- Deployment of NATO AWACS aircraft; <br/>- NATO support for the deployment of theatre missile defenses for Turkey; <br/>- NATO support for possible deployment of Allied chemical and biological defenses.\n",
      "    </p>\n",
      "<p class=\"paragraph inline-placeholder\" data-article-gutter=\"true\" data-component-name=\"paragraph\" data-editable=\"text\" data-uri=\"archive.cms.cnn.com/_components/paragraph/instances/paragraph_F0F42120-A0E8-FE5C-7154-BA6961A4CA58@published\">\n",
      "<strong>March 29, 2004 - </strong>NATO is expanded from 19 to 26 members when seven nations, Bulgaria, Estonia, Latvia, Lithuania, Romania, Slovakia, and Slovenia, join in an accession ceremony in Washington, DC. All are former communist states in Eastern Europe.\n",
      "    </p>\n",
      "<p class=\"paragraph inline-placeholder\" data-article-gutter=\"true\" data-component-name=\"paragraph\" data-editable=\"text\" data-uri=\"archive.cms.cnn.com/_components/paragraph/instances/paragraph_BFA6B174-6DEE-4F01-E9BE-BA69714E5DE2@published\">\n",
      "<strong>August 10, 2004 -</strong> NATO AWACS begin patrolling Greek airspace prior to the Olympic and Paralympic games. NATO’s presence at the Olympics is nicknamed Distinguished Games and includes AWACS and the Multinational Chemical Biological Radiological Nuclear Task Force.\n",
      "    </p>\n",
      "<p class=\"paragraph inline-placeholder\" data-article-gutter=\"true\" data-component-name=\"paragraph\" data-editable=\"text\" data-uri=\"archive.cms.cnn.com/_components/paragraph/instances/paragraph_5EA19FDA-D62D-51C1-4D75-BA6997B2E881@published\">\n",
      "<strong>September 14, 2006 - </strong>Ukraine announces that it is shelving its aspirations to join NATO, due to opposition by the Ukrainian public and Russia.\n",
      "    </p>\n",
      "<p class=\"paragraph inline-placeholder\" data-article-gutter=\"true\" data-component-name=\"paragraph\" data-editable=\"text\" data-uri=\"archive.cms.cnn.com/_components/paragraph/instances/paragraph_62A7E971-4C27-C4A8-E5CF-BA69BBC53599@published\">\n",
      "<strong>April 2-4, 2008 - </strong>NATO leaders hold a summit in Bucharest, Romania. Croatia and Albania are invited to join the alliance.\n",
      "    </p>\n",
      "<p class=\"paragraph inline-placeholder\" data-article-gutter=\"true\" data-component-name=\"paragraph\" data-editable=\"text\" data-uri=\"archive.cms.cnn.com/_components/paragraph/instances/paragraph_11017A20-6C55-A483-92A6-BA69C3B1AD5B@published\">\n",
      "<strong>June 17, 2008 -</strong> <a href=\"http://www.cnn.com/2013/07/16/world/europe/nicolas-sarkozy-fast-facts/index.html\">French President Nicolas Sarkozy</a> announces France will soon rejoin NATO’s military command, 40 years after it left.\n",
      "    </p>\n",
      "<p class=\"paragraph inline-placeholder\" data-article-gutter=\"true\" data-component-name=\"paragraph\" data-editable=\"text\" data-uri=\"archive.cms.cnn.com/_components/paragraph/instances/paragraph_48DE46E1-3E74-58EA-358B-4CD37B138157@published\">\n",
      "<strong>April 3-4, 2009 - </strong>The 23rd NATO summit also marks NATO’s 60th anniversary. During the summit, France rejoins NATO’s military command. \n",
      "    </p>\n",
      "<p class=\"paragraph inline-placeholder\" data-article-gutter=\"true\" data-component-name=\"paragraph\" data-editable=\"text\" data-uri=\"archive.cms.cnn.com/_components/paragraph/instances/paragraph_C2BDE234-0A19-2F3D-DCBB-BA69DC9EF2AE@published\">\n",
      "<strong>November 19, 2010 - </strong>NATO adopts the <a href=\"http://www.nato.int/cps/en/natolive/topics_82705.htm\" target=\"_blank\">Strategic Concept “Active Engagement, Modern Defence”</a> for the next 10 years.\n",
      "    </p>\n",
      "<p class=\"paragraph inline-placeholder\" data-article-gutter=\"true\" data-component-name=\"paragraph\" data-editable=\"text\" data-uri=\"archive.cms.cnn.com/_components/paragraph/instances/paragraph_D9A9DA49-7B3A-D28E-A7BC-BA69E3AFC761@published\">\n",
      "<strong>March 24, 2011 -</strong> NATO takes command of enforcing a no-fly zone imposed on Libya by the United Nations.\n",
      "    </p>\n",
      "<p class=\"paragraph inline-placeholder\" data-article-gutter=\"true\" data-component-name=\"paragraph\" data-editable=\"text\" data-uri=\"archive.cms.cnn.com/_components/paragraph/instances/paragraph_5960D4BE-3C93-DABC-8681-BA69EAFF5884@published\">\n",
      "<strong>March 29, 2011 -</strong> The Council of Europe rules NATO, among others, responsible for the 63 deaths of African immigrants left adrift for two weeks while attempting to reach European shores from Libya.\n",
      "    </p>\n",
      "<p class=\"paragraph inline-placeholder\" data-article-gutter=\"true\" data-component-name=\"paragraph\" data-editable=\"text\" data-uri=\"archive.cms.cnn.com/_components/paragraph/instances/paragraph_2CFC833D-F0B0-CBDE-9EAC-BA69F349FEBD@published\">\n",
      "<strong>May 19, 2012 -</strong> Demonstrators take to the streets of Chicago prior to the start of the NATO summit. Anti-NATO protests near <a href=\"http://www.cnn.com/2013/02/13/us/rahm-emanuel-fast-facts/\">Mayor Rahm Emanuel</a>’s home focus on the cost of the summit to the city and city budget cuts to mental healthcare.\n",
      "    </p>\n",
      "<p class=\"paragraph inline-placeholder\" data-article-gutter=\"true\" data-component-name=\"paragraph\" data-editable=\"text\" data-uri=\"archive.cms.cnn.com/_components/paragraph/instances/paragraph_C01934D5-1C90-5A0D-60E4-BA69FB73FAC9@published\">\n",
      "<strong>May 20-21, 2012 -</strong> The 25th Summit is held in Chicago. During the summit, NATO accepts <a href=\"http://www.cnn.com/2012/12/26/us/barack-obama---fast-facts/index.html\">US President Barack Obama</a>’s timetable to end the <a href=\"http://www.cnn.com/2013/10/28/world/operation-enduring-freedom-fast-facts/index.html\">war in Afghanistan</a> by 2014.\n",
      "    </p>\n",
      "<p class=\"paragraph inline-placeholder\" data-article-gutter=\"true\" data-component-name=\"paragraph\" data-editable=\"text\" data-uri=\"archive.cms.cnn.com/_components/paragraph/instances/paragraph_C7F967E3-025F-A3C8-3372-E50DF977DC5F@published\">\n",
      "<strong>March 5, 2014 - </strong>In regard to the crisis in Ukraine, <a href=\"http://www.cnn.com/2014/03/05/world/europe/ukraine-russia-tensions/\">Secretary General Anders Fogh Rasmussen announces</a> that NATO has decided to “put the entire range of NATO-Russia cooperation under review” to send “a clear message Russia’s actions have consequences.”\n",
      "    </p>\n",
      "<p class=\"paragraph inline-placeholder\" data-article-gutter=\"true\" data-component-name=\"paragraph\" data-editable=\"text\" data-uri=\"archive.cms.cnn.com/_components/paragraph/instances/paragraph_20CE03E7-B570-D18A-5C88-6A31C492A407@published\">\n",
      "<strong>December 2, 2015 -</strong> NATO extends an <a href=\"http://www.cnn.com/2015/12/02/europe/nato-montenegro-membership-invitation/\">official invitation to Montenegro</a> to join the alliance. \n",
      "    </p>\n",
      "<p class=\"paragraph inline-placeholder\" data-article-gutter=\"true\" data-component-name=\"paragraph\" data-editable=\"text\" data-uri=\"archive.cms.cnn.com/_components/paragraph/instances/paragraph_5748CD0D-BFBE-D3D7-336F-AEA511325596@published\">\n",
      "<strong>February 11, 2016 - </strong>Secretary General Stoltenberg announces that <a href=\"http://www.cnn.com/2016/02/11/europe/nato-migrants-aegean-mediterranean/\">NATO is deploying ships to the Aegean Sea</a> to try to deter smugglers from trafficking migrants from Turkey to Greece.\n",
      "    </p>\n",
      "<p class=\"paragraph inline-placeholder\" data-article-gutter=\"true\" data-component-name=\"paragraph\" data-editable=\"text\" data-uri=\"archive.cms.cnn.com/_components/paragraph/instances/paragraph_C0665CA5-7F0A-EB4C-8BF7-7930B958D719@published\">\n",
      "<strong>June 5, 2017 - </strong><a href=\"http://www.cnn.com/2017/06/05/politics/montenegro-joins-nato-article-5/index.html\">Montenegro officially becomes a member of NATO.</a>\n",
      "</p>\n",
      "<p class=\"paragraph inline-placeholder\" data-article-gutter=\"true\" data-component-name=\"paragraph\" data-editable=\"text\" data-uri=\"archive.cms.cnn.com/_components/paragraph/instances/paragraph_255DA880-4535-F081-E458-5A5CF9300F1C@published\">\n",
      "<strong>March 27, 2020 - </strong><a href=\"https://www.nato.int/cps/en/natohq/nato_countries.htm\" target=\"_blank\">North Macedonia officially joins NATO.</a>\n",
      "</p>\n",
      "<p class=\"paragraph inline-placeholder\" data-article-gutter=\"true\" data-component-name=\"paragraph\" data-editable=\"text\" data-uri=\"archive.cms.cnn.com/_components/paragraph/instances/paragraph_3D177174-21FC-74AA-188B-FA334F203E05@published\">\n",
      "<strong>March 24, 2022 - </strong><a href=\"https://www.nato.int/cps/en/natohq/official_texts_193719.htm\" target=\"_blank\">NATO leaders issue a joint statement</a> in response to Russia’s invasion of Ukraine. Leaders call on <a href=\"https://www.cnn.com/2013/01/03/world/europe/vladimir-putin---fast-facts/index.html\" target=\"_blank\">President Vladimir Putin</a> to withdraw Russian military forces, and call on Belarus to end its complicity.\n",
      "    </p>\n",
      "<p class=\"paragraph inline-placeholder\" data-article-gutter=\"true\" data-component-name=\"paragraph\" data-editable=\"text\" data-uri=\"archive.cms.cnn.com/_components/paragraph/instances/paragraph_A1363D0B-C23E-4F96-646F-D4399F0F0647@published\">\n",
      "<strong>May 15, 2022 - </strong><a href=\"https://www.cnn.com/2022/05/15/europe/finland-nato-membership-russia-ukraine-intl/index.html\" target=\"_blank\">Finland’s government says it intends to join NATO</a>, ditching decades of neutrality and ignoring Russian threats of possible retaliation as the Nordic country attempts to strengthen its security following the onset of the war in Ukraine. Sweden’s ruling party later said it will also support joining the alliance.\n",
      "    </p>\n",
      "<p class=\"paragraph inline-placeholder\" data-article-gutter=\"true\" data-component-name=\"paragraph\" data-editable=\"text\" data-uri=\"archive.cms.cnn.com/_components/paragraph/instances/paragraph_13555712-F1DD-224E-40FC-4CD7E7E4FA9D@published\">\n",
      "<strong>April 4, 2023 -</strong> <a href=\"https://www.nato.int/cps/en/natohq/news_212288.htm\" target=\"_blank\">Finland becomes the 31st member</a> of NATO.\n",
      "    </p>\n",
      "<p class=\"paragraph inline-placeholder\" data-article-gutter=\"true\" data-component-name=\"paragraph\" data-editable=\"text\" data-uri=\"archive.cms.cnn.com/_components/paragraph/instances/paragraph_40482B31-891A-10AF-EEBF-1A539C359B19@published\">\n",
      "<strong>March 7, 2024 - </strong>Sweden <a href=\"https://www.nato.int/cps/en/natohq/news_223446.htm\" target=\"_blank\">officially joins</a> NATO, <a href=\"https://www.cnn.com/2024/03/07/europe/sweden-join-nato-official-intl/index.html\" target=\"_blank\">becoming the 32nd member</a>.\n",
      "    </p>\n",
      "<p class=\"paragraph inline-placeholder\" data-article-gutter=\"true\" data-component-name=\"paragraph\" data-editable=\"text\" data-uri=\"archive.cms.cnn.com/_components/paragraph/instances/paragraph_419DCA2C-9A3B-4FE7-36C5-D3C46E9E12BF@published\">\n",
      "<strong>April 4, 2024 - </strong>Allied foreign affairs ministers meet at the headquarters in Brussels, commemorating the<a href=\"https://www.nato.int/cps/en/natohq/news_224092.htm\" target=\"_blank\"> 75th anniversary of NATO</a>.\n",
      "    </p>\n",
      "</div>\n",
      "<div class=\"article__copyright\" data-editable=\"copyright\" data-reorderable=\"copyright\" itemprop=\"articleCopyright\">\n",
      "</div>\n",
      "</div>\n",
      "</main>\n",
      "</section>\n",
      "</article>\n"
     ]
    }
   ],
   "source": [
    "import requests\n",
    "from bs4 import BeautifulSoup\n",
    "import pickle\n",
    "url = \"https://www.cnn.com/2013/07/30/world/nato-fast-facts/index.html/\"\n",
    "\n",
    "# parser = 'html5lib'\n",
    "parser = 'html.parser'\n",
    "\n",
    "soup = BeautifulSoup(response.text, parser)\n",
    "\n",
    "article_page = requests.get(url)\n",
    "article_html = article_page.text\n",
    "\n",
    "\n",
    "\n",
    "with open('article.pkl', 'wb') as f:\n",
    "    pickle.dump(article_page.text, f)\n",
    "\n",
    "# Load the pickled data\n",
    "with open('article.pkl', 'rb') as f:\n",
    "    article_html = pickle.load(f)\n",
    "\n",
    "    soup = BeautifulSoup(article_html, parser)\n",
    "article_element = soup.find('article')\n",
    "\n",
    "# Print the pickled data\n",
    "print(article_element)"
   ]
  },
  {
   "cell_type": "code",
   "execution_count": 9,
   "metadata": {},
   "outputs": [
    {
     "name": "stdout",
     "output_type": "stream",
     "text": [
      "\n",
      "\n",
      "\n",
      "\n",
      "\n",
      "\n",
      "\n",
      "\n",
      "\n",
      "\n",
      "\n",
      "\n",
      "NATO flag at the NATO headquarters in Brussels\n",
      "\n",
      "KENZO TRIBOUILLARD/AFP/AFP via Getty Images\n",
      "\n",
      "\n",
      "\n",
      "\n",
      "\n",
      "\n",
      "\n",
      "\n",
      "CNN\n",
      "         — \n",
      "    \n",
      "\n",
      "\n",
      "            Here’s a look at the North Atlantic Treaty Organization (NATO), headquartered in Brussels, Belgium.\n",
      "    \n",
      "\n",
      "    Facts\n",
      "\n",
      "\n",
      "            The organization’s charter states that the signing parties will “seek to promote stability and well-being in the North Atlantic area,” and will “unite their efforts for collective defense and for the preservation of peace and security.”\n",
      "    \n",
      "\n",
      "April 4, 1949 - NATO is established.\n",
      "    \n",
      "\n",
      "2014-present - The current secretary general is Jens Stoltenberg, former prime minister of Norway. On March 24, 2022, Stoltenberg’s tenure was extended by one year due to Russia’s invasion of Ukraine.\n",
      "    \n",
      "\n",
      "March 14, 2024 - The secretary general’s annual report is released.\n",
      "    \n",
      "\n",
      "    32 Member Countries\n",
      "\n",
      "\n",
      "            Albania (2009)Belgium (1949)Bulgaria (2004)Canada (1949)Croatia (2009)Czech Republic (1999)Denmark (1949)Estonia (2004)Finland (2023)France (1949)Germany (1955, as West Germany)Greece (1952)Hungary (1999)Iceland (1949)Italy (1949)Latvia (2004)Lithuania (2004)Luxembourg (1949)Montenegro (2017)Netherlands (1949)North Macedonia (2020)Norway (1949)Poland (1999)Portugal (1949)Romania (2004)Slovakia (2004)Slovenia (2004)Spain (1982)Sweden (2024)Turkey (1952)United Kingdom (1949)United States (1949)\n",
      "    \n",
      "\n",
      "    Timeline (selected)\n",
      "\n",
      "\n",
      "April 4, 1949 - The 12 nations of Belgium, Canada, Denmark, France, Iceland, Italy, Luxembourg, the Netherlands, Norway, Portugal, the United Kingdom and the United States sign the North Atlantic Treaty in Washington, DC.\n",
      "    \n",
      "\n",
      "July 25, 1950 - First meeting of NATO Council Deputies in London. US Ambassador Charles M. Spofford is elected permanent chairman. \n",
      "    \n",
      "\n",
      "December 19, 1950 - US General Dwight Eisenhower is appointed the first supreme allied commander. The position leads NATO’s military operations.\n",
      "    \n",
      "\n",
      "March 12, 1952 - Lord Ismay is named the first secretary general of NATO and appointed vice chairman of the North Atlantic Council, which oversees NATO’s political decisions. \n",
      "    \n",
      "\n",
      "April 16, 1952 - NATO establishes its provisional headquarters in Paris at the Palais de Chaillot.\n",
      "    \n",
      "\n",
      "April 28, 1952 - First meeting of the North Atlantic Council in permanent session in Paris. \n",
      "    \n",
      "\n",
      "May 6, 1952 - West Germany joins NATO.\n",
      "    \n",
      "\n",
      "May 14, 1955 - The Soviet Union and Eastern Bloc countries form the Warsaw Pact in response to West Germany joining NATO. \n",
      "    \n",
      "\n",
      "July 26, 1956 - Egypt nationalizes the Suez Canal. France and Great Britain use troops to intervene, against the wishes of the United States, causing a rift in NATO.\n",
      "    \n",
      "\n",
      "October 22-23, 1963 - NATO and the United States demonstrate the size and speed of emergency forces when flying 14,500 US troops into West Germany for maneuvers.\n",
      "    \n",
      "\n",
      "March 10, 1966 - France formally announces intentions to withdraw from the military structure of NATO, accusing the United States of having too much influence in the organization. \n",
      "    \n",
      "\n",
      "March 31, 1967 - Opening ceremony of new NATO headquarters in Casteau, near Mons, Belgium.\n",
      "    \n",
      "\n",
      "August 14, 1974 - Greece, angered at NATO’s response to the Turkish invasion of Cyprus, withdraws from the military arm of NATO.\n",
      "    \n",
      "\n",
      "October 20, 1980 - Greece rejoins the NATO military structure.\n",
      "    \n",
      "\n",
      "May 30, 1982 - Spain joins NATO.\n",
      "    \n",
      "\n",
      "October 3, 1990 - Germany is reunified after 45 years. East Germany leaves the Warsaw Pact and is incorporated into NATO. In 1991, the Warsaw Pact is dissolved.\n",
      "\n",
      "\n",
      "December 13, 1991 - For the first time, the Soviet Union takes part in meetings at NATO as part of the North Atlantic Cooperation Council. \n",
      "    \n",
      "\n",
      "December 21, 1991 - Eleven of the republics of the former Soviet Union create a new Commonwealth of Independent States. On December 25, the Soviet Union is officially disbanded with the resignation of Mikhail Gorbachev as president and supreme commander-in-chief of Soviet Forces.\n",
      "    \n",
      "\n",
      "February 28, 1994 - NATO forces shoot down four Bosnian Serb planes violating the UN-imposed no-fly zone. It is the first time NATO has used force.\n",
      "    \n",
      "\n",
      "November 21, 1995 - After the Dayton Peace Accords, the war in Bosnia Herzegovina ends. In December, NATO deploys Implementation Force (IFOR) to support the agreement.\n",
      "    \n",
      "\n",
      "January 13, 1996 - Russian troops are deployed to support IFOR in Bosnia.\n",
      "    \n",
      "\n",
      "May 22, 1997 - NATO and the Russian Federation sign a security and cooperation pact, the “Founding Act” which establishes a NATO-Russia Permanent Joint Council (PJC).\n",
      "    \n",
      "\n",
      "March 24, 1999 - NATO launches air strikes against Yugoslavia to end Serbian aggression in the Kosovo region.\n",
      "    \n",
      "\n",
      "September 12, 2001 - For the first time, NATO invokes Article V, the Washington Treaty, its mutual defense clause, in support of the United States after the September 11 terror attacks. \n",
      "\n",
      "\n",
      "May 28, 2002 - NATO and Russia form the NATO-Russia Council (NRC), which makes Russia an associate member of the organization. The NRC replaces the PJC.\n",
      "    \n",
      "\n",
      "November 21-22, 2002 - During the Prague Summit, NATO invites seven former Eastern Bloc countries, Bulgaria, Estonia, Latvia, Lithuania, Romania, Slovakia and Slovenia, to discuss entry into the organization.\n",
      "    \n",
      "\n",
      "December 4, 2002 - US Deputy Defense Secretary Paul Wolfowitz speaks before NATO in Brussels and requests that member nations contribute forces to a potential campaign in Iraq.\n",
      "    \n",
      "\n",
      "January 22, 2003 - France and Germany block discussion on war preparations submitted by the United States. The US proposal included provisions for Turkey’s defense, the use of NATO equipment, and NATO’s postwar role in Iraq.\n",
      "    \n",
      "\n",
      "February 10, 2003 - France, Germany and Belgium block a US request that NATO provide Patriot missiles, Airborne Warning and Control System (AWACS) aircraft, and other equipment to Turkey. The United States had made the request anticipating that Iraq will retaliate against Turkey in the event of war. Turkey invokes article IV of the NATO charter, which requires the organization as a whole to discuss security threats to any member nation.\n",
      "    \n",
      "\n",
      "February 16, 2003 - NATO produces three defensive plans for Turkey, in the event of a US war with Iraq:- Deployment of NATO AWACS aircraft; - NATO support for the deployment of theatre missile defenses for Turkey; - NATO support for possible deployment of Allied chemical and biological defenses.\n",
      "    \n",
      "\n",
      "March 29, 2004 - NATO is expanded from 19 to 26 members when seven nations, Bulgaria, Estonia, Latvia, Lithuania, Romania, Slovakia, and Slovenia, join in an accession ceremony in Washington, DC. All are former communist states in Eastern Europe.\n",
      "    \n",
      "\n",
      "August 10, 2004 - NATO AWACS begin patrolling Greek airspace prior to the Olympic and Paralympic games. NATO’s presence at the Olympics is nicknamed Distinguished Games and includes AWACS and the Multinational Chemical Biological Radiological Nuclear Task Force.\n",
      "    \n",
      "\n",
      "September 14, 2006 - Ukraine announces that it is shelving its aspirations to join NATO, due to opposition by the Ukrainian public and Russia.\n",
      "    \n",
      "\n",
      "April 2-4, 2008 - NATO leaders hold a summit in Bucharest, Romania. Croatia and Albania are invited to join the alliance.\n",
      "    \n",
      "\n",
      "June 17, 2008 - French President Nicolas Sarkozy announces France will soon rejoin NATO’s military command, 40 years after it left.\n",
      "    \n",
      "\n",
      "April 3-4, 2009 - The 23rd NATO summit also marks NATO’s 60th anniversary. During the summit, France rejoins NATO’s military command. \n",
      "    \n",
      "\n",
      "November 19, 2010 - NATO adopts the Strategic Concept “Active Engagement, Modern Defence” for the next 10 years.\n",
      "    \n",
      "\n",
      "March 24, 2011 - NATO takes command of enforcing a no-fly zone imposed on Libya by the United Nations.\n",
      "    \n",
      "\n",
      "March 29, 2011 - The Council of Europe rules NATO, among others, responsible for the 63 deaths of African immigrants left adrift for two weeks while attempting to reach European shores from Libya.\n",
      "    \n",
      "\n",
      "May 19, 2012 - Demonstrators take to the streets of Chicago prior to the start of the NATO summit. Anti-NATO protests near Mayor Rahm Emanuel’s home focus on the cost of the summit to the city and city budget cuts to mental healthcare.\n",
      "    \n",
      "\n",
      "May 20-21, 2012 - The 25th Summit is held in Chicago. During the summit, NATO accepts US President Barack Obama’s timetable to end the war in Afghanistan by 2014.\n",
      "    \n",
      "\n",
      "March 5, 2014 - In regard to the crisis in Ukraine, Secretary General Anders Fogh Rasmussen announces that NATO has decided to “put the entire range of NATO-Russia cooperation under review” to send “a clear message Russia’s actions have consequences.”\n",
      "    \n",
      "\n",
      "December 2, 2015 - NATO extends an official invitation to Montenegro to join the alliance. \n",
      "    \n",
      "\n",
      "February 11, 2016 - Secretary General Stoltenberg announces that NATO is deploying ships to the Aegean Sea to try to deter smugglers from trafficking migrants from Turkey to Greece.\n",
      "    \n",
      "\n",
      "June 5, 2017 - Montenegro officially becomes a member of NATO.\n",
      "\n",
      "\n",
      "March 27, 2020 - North Macedonia officially joins NATO.\n",
      "\n",
      "\n",
      "March 24, 2022 - NATO leaders issue a joint statement in response to Russia’s invasion of Ukraine. Leaders call on President Vladimir Putin to withdraw Russian military forces, and call on Belarus to end its complicity.\n",
      "    \n",
      "\n",
      "May 15, 2022 - Finland’s government says it intends to join NATO, ditching decades of neutrality and ignoring Russian threats of possible retaliation as the Nordic country attempts to strengthen its security following the onset of the war in Ukraine. Sweden’s ruling party later said it will also support joining the alliance.\n",
      "    \n",
      "\n",
      "April 4, 2023 - Finland becomes the 31st member of NATO.\n",
      "    \n",
      "\n",
      "March 7, 2024 - Sweden officially joins NATO, becoming the 32nd member.\n",
      "    \n",
      "\n",
      "April 4, 2024 - Allied foreign affairs ministers meet at the headquarters in Brussels, commemorating the 75th anniversary of NATO.\n",
      "    \n",
      "\n",
      "\n",
      "\n",
      "\n",
      "\n",
      "\n",
      "\n"
     ]
    }
   ],
   "source": [
    "from bs4 import BeautifulSoup\n",
    "import pickle\n",
    "\n",
    "# Read the HTML content from the file\n",
    "with open(\"article.pkl\", \"rb\") as f:\n",
    "    html_content = pickle.load(f)\n",
    "\n",
    "# Parse the HTML content\n",
    "soup = BeautifulSoup(html_content, \"html.parser\")\n",
    "\n",
    "# Find the article element\n",
    "article_element = soup.find(\"article\")\n",
    "\n",
    "# Get the text from the article element\n",
    "article_text = article_element.get_text()\n",
    "\n",
    "# Print the text\n",
    "print(article_text)"
   ]
  },
  {
   "cell_type": "markdown",
   "metadata": {},
   "source": [
    "## Question 2"
   ]
  },
  {
   "cell_type": "markdown",
   "metadata": {},
   "source": [
    "2. Read in your article's html source from the file you created in question 1 and do sentiment analysis on the article/post's text (use `.get_text()`).  Print the polarity score with an appropriate label.  Additionally print the number of sentences in the original article (with an appropriate label)"
   ]
  },
  {
   "cell_type": "code",
   "execution_count": 10,
   "metadata": {},
   "outputs": [
    {
     "name": "stdout",
     "output_type": "stream",
     "text": [
      "Polarity: 0.035361187633914895\n",
      "Sentiment Polarity Score: 0.035361187633914895\n",
      "Number of Sentences: 75\n"
     ]
    }
   ],
   "source": [
    "import spacy\n",
    "from spacytextblob.spacytextblob import SpacyTextBlob\n",
    "from bs4 import BeautifulSoup\n",
    "from textblob import TextBlob\n",
    "\n",
    "# Calculate polarity score by using nlp\n",
    "nlp = spacy.load('en_core_web_sm')\n",
    "nlp.add_pipe('spacytextblob')\n",
    "doc = nlp(article_element.get_text())\n",
    "print(f'Polarity: {doc._.polarity}')\n",
    "\n",
    "# calculate polarity score by using blob\n",
    "# Perform sentiment analysis\n",
    "blob = TextBlob(article_text)\n",
    "polarity_score = blob.sentiment.polarity\n",
    "\n",
    "# Count the number of sentences\n",
    "num_sentences = len(blob.sentences)\n",
    "\n",
    "# Print the polarity score and number of sentences\n",
    "print(\"Sentiment Polarity Score:\", polarity_score)\n",
    "print(\"Number of Sentences:\", num_sentences)"
   ]
  },
  {
   "cell_type": "markdown",
   "metadata": {},
   "source": [
    "## Question 3"
   ]
  },
  {
   "cell_type": "markdown",
   "metadata": {},
   "source": [
    "3. Load the article text into a trained `spaCy` pipeline, and determine the 5 most frequent tokens (converted to lower case).  Print the common tokens with an appropriate label.  Additionally, print the tokens their frequencies (with appropriate labels)"
   ]
  },
  {
   "cell_type": "code",
   "execution_count": 11,
   "metadata": {},
   "outputs": [
    {
     "name": "stdout",
     "output_type": "stream",
     "text": [
      "Tokens and Their Frequencies :\n",
      "[('nato', 66), ('march', 13), ('states', 11), ('russia', 9), ('united', 9)]\n",
      "5 Most Frequent tokens :  {'russia', 'nato', 'united', 'march', 'states'}\n"
     ]
    }
   ],
   "source": [
    "import spacy\n",
    "from spacytextblob.spacytextblob import SpacyTextBlob\n",
    "\n",
    "nlp = spacy.load('en_core_web_sm')\n",
    "doc = nlp(article_element.get_text())\n",
    "from collections import Counter\n",
    "\n",
    "def important_token(token):\n",
    "    return not (token.is_space or token.is_punct or token.is_stop)\n",
    "\n",
    "interesting_tokens = [token.text.lower() for token in doc if important_token(token)]\n",
    "word_freq = Counter(map(str,interesting_tokens))\n",
    "best_token = (word_freq.most_common(5))\n",
    "\n",
    "## Print the common tokens with an appropriate label\n",
    "print(\"Tokens and Their Frequencies :\")\n",
    "print(best_token)\n",
    "best_tokens = set()\n",
    "for token, freq in word_freq.most_common(5):\n",
    "    best_tokens.add(token)\n",
    " ## Print 5 Most Frequent tokens\n",
    "print(\"5 Most Frequent tokens : \", best_tokens)"
   ]
  },
  {
   "cell_type": "markdown",
   "metadata": {},
   "source": [
    "## Question 4"
   ]
  },
  {
   "cell_type": "markdown",
   "metadata": {},
   "source": [
    "4.Load the article text into a trained spaCy pipeline, and determine the 5 most frequent lemmas (converted to lower case). Print the common lemmas with an appropriate label. Additionally, print the lemmas with their frequencies (with appropriate labels)."
   ]
  },
  {
   "cell_type": "code",
   "execution_count": 19,
   "metadata": {},
   "outputs": [
    {
     "name": "stdout",
     "output_type": "stream",
     "text": [
      "Lemmas and Their Frequencies :\n",
      "[('nato', 66), ('march', 13), ('join', 11), ('russia', 9), ('states', 9)]\n",
      "5 Most Frequent Lemmas  {'join', 'russia', 'nato', 'march', 'states'}\n"
     ]
    }
   ],
   "source": [
    "interesting_lemmas = [token.lemma_.lower() for token in doc if important_token(token)]\r\n",
    "lemma_freq = Counter(interesting_lemmas)\r\n",
    "best_lemmas= lemma_freq.most_common(5)\r\n",
    "\r\n",
    "# Print lemmas and their frequencies\r\n",
    "print(\"Lemmas and Their Frequencies :\")\r\n",
    "print(best_lemmas)\r\n",
    "best_lemmas = set()\r\n",
    "for lemma, freq in lemma_freq.most_common(5):\r\n",
    "    best_lemmas.add(lemma)\r\n",
    "    \r\n",
    "# Print the set of the 5 most frequent lemmas\r\n",
    "print(\"5 Most Frequent Lemmas \", best_lemmas)"
   ]
  },
  {
   "cell_type": "markdown",
   "metadata": {},
   "source": [
    "## Question 5"
   ]
  },
  {
   "cell_type": "markdown",
   "metadata": {},
   "source": [
    "5.Make a list containing the scores (using tokens) of every sentence in the article, and plot a histogram with appropriate titles and axis labels of the scores. From your histogram, what seems to be the most common range of scores (put the answer in a comment after your code)?"
   ]
  },
  {
   "cell_type": "code",
   "execution_count": 20,
   "metadata": {},
   "outputs": [
    {
     "name": "stdout",
     "output_type": "stream",
     "text": [
      "0.0967741935483871 : NATO flag at the NATO headquarters in BrusselsKENZO TRIBOUILLARD/AFP/AFP via Getty ImagesCNN     —         Here’s a look at the North Atlantic Treaty Organization (NATO), headquartered in Brussels, Belgium.    \n",
      "0.023809523809523808 : Facts      The organization’s charter states that the signing parties will “seek to promote stability and well-being in the North Atlantic area,” and will “unite their efforts for collective defense and for the preservation of peace and security.”  April 4, 1949 -\n",
      "0.3333333333333333 : NATO is established.  \n",
      "0.0 : 2014-present - The current secretary general is Jens Stoltenberg, former prime minister of Norway.\n",
      "0.10526315789473684 : On March 24, 2022, Stoltenberg’s tenure was extended by one year due to Russia’s invasion of Ukraine.  \n",
      "0.3333333333333333 : March 14, 2024 -\n",
      "0.0 : The secretary general’s annual report is released.    \n",
      "0.020833333333333332 : 32 Member Countries      Albania (2009)Belgium (1949)Bulgaria (2004)Canada (1949)Croatia (2009)Czech Republic (1999)Denmark (1949)Estonia (2004)Finland (2023)France (1949)Germany (1955, as West Germany)Greece (1952)Hungary (1999)Iceland (1949)Italy (1949)Latvia (2004)Lithuania (2004)Luxembourg (1949)Montenegro (2017)Netherlands (1949)North Macedonia (2020)Norway (1949)Poland (1999)Portugal (1949)Romania (2004)Slovakia (2004)Slovenia (2004)Spain (1982)Sweden (2024)Turkey (1952)United Kingdom (1949)United States (1949)    Timeline (selected)April 4, 1949 -\n",
      "0.1 : The 12 nations of Belgium, Canada, Denmark, France, Iceland, Italy, Luxembourg, the Netherlands, Norway, Portugal, the United Kingdom and the United States sign the North Atlantic Treaty in Washington, DC.  \n",
      "0.09090909090909091 : July 25, 1950 - First meeting of NATO Council Deputies in London.\n",
      "0.0 : US Ambassador Charles M. Spofford is elected permanent chairman.   \n",
      "0.0 : December 19, 1950 - US General Dwight Eisenhower is appointed the first supreme allied commander.\n",
      "0.14285714285714285 : The position leads NATO’s military operations.  \n",
      "0.10714285714285714 : March 12, 1952 - Lord Ismay is named the first secretary general of NATO and appointed vice chairman of the North Atlantic Council, which oversees NATO’s political decisions.   \n",
      "0.0 : April 16, 1952 -\n",
      "0.06666666666666667 : NATO establishes its provisional headquarters in Paris at the Palais de Chaillot.  April 28, 1952 -\n",
      "0.0 : First meeting of the North Atlantic Council in permanent session in Paris.   \n",
      "0.14285714285714285 : May 6, 1952 - West Germany joins NATO.  \n",
      "0.0 : May 14, 1955 -\n",
      "0.05555555555555555 : The Soviet Union and Eastern Bloc countries form the Warsaw Pact in response to West Germany joining NATO.   \n",
      "0.0 : July 26, 1956 - Egypt nationalizes the Suez Canal.\n",
      "0.1276595744680851 : France and Great Britain use troops to intervene, against the wishes of the United States, causing a rift in NATO.  October 22-23, 1963 - NATO and the United States demonstrate the size and speed of emergency forces when flying 14,500 US troops into West Germany for maneuvers.  \n",
      "0.14814814814814814 : March 10, 1966 - France formally announces intentions to withdraw from the military structure of NATO, accusing the United States of having too much influence in the organization.   \n",
      "0.14285714285714285 : March 31, 1967 - Opening ceremony of new NATO headquarters in Casteau, near Mons, Belgium.  \n",
      "0.0967741935483871 : August 14, 1974 - Greece, angered at NATO’s response to the Turkish invasion of Cyprus, withdraws from the military arm of NATO.  October 20, 1980 - Greece rejoins the NATO military structure.  \n",
      "0.06666666666666667 : May 30, 1982 - Spain joins NATO.  October 3, 1990 - Germany is reunified after 45 years.\n",
      "0.09090909090909091 : East Germany leaves the Warsaw Pact and is incorporated into NATO.\n",
      "0.0 : In 1991, the Warsaw Pact is dissolved.\n",
      "0.0 : December 13, 1991 -\n",
      "0.047619047619047616 : For the first time, the Soviet Union takes part in meetings at NATO as part of the North Atlantic Cooperation Council.   \n",
      "0.05263157894736842 : December 21, 1991 - Eleven of the republics of the former Soviet Union create a new Commonwealth of Independent States.\n",
      "0.0 : On December 25, the Soviet Union is officially disbanded with the resignation of Mikhail Gorbachev as president and supreme commander-in-chief of Soviet Forces.  \n",
      "0.0 : February 28, 1994 -\n",
      "0.06666666666666667 : NATO forces shoot down four Bosnian Serb planes violating the UN-imposed no-fly zone.\n",
      "0.1111111111111111 : It is the first time NATO has used force.  \n",
      "0.0 : November 21, 1995 -\n",
      "0.0 : After the Dayton Peace Accords, the war in Bosnia Herzegovina ends.\n",
      "0.09090909090909091 : In December, NATO deploys Implementation Force (IFOR) to support the agreement.  \n",
      "0.0 : January 13, 1996 - Russian troops are deployed to support IFOR in Bosnia.  \n",
      "0.0 : May 22, 1997 -\n",
      "0.13043478260869565 : NATO and the Russian Federation sign a security and cooperation pact, the “Founding Act” which establishes a NATO-Russia Permanent Joint Council (PJC).  \n",
      "0.11764705882352941 : March 24, 1999 - NATO launches air strikes against Yugoslavia to end Serbian aggression in the Kosovo region.  \n",
      "0.0 : September 12, 2001 -\n",
      "0.1111111111111111 : For the first time, NATO invokes Article V, the Washington Treaty, its mutual defense clause, in support of the United States after the September 11 terror attacks. \n",
      "0.23809523809523808 : May 28, 2002 - NATO and Russia form the NATO-Russia Council (NRC), which makes Russia an associate member of the organization.\n",
      "0.03278688524590164 : The NRC replaces the PJC.  November 21-22, 2002 - During the Prague Summit, NATO invites seven former Eastern Bloc countries, Bulgaria, Estonia, Latvia, Lithuania, Romania, Slovakia and Slovenia, to discuss entry into the organization.  December 4, 2002 - US Deputy Defense Secretary Paul Wolfowitz speaks before NATO in Brussels and requests that member nations contribute forces to a potential campaign in Iraq.  \n",
      "0.125 : January 22, 2003 - France and Germany block discussion on war preparations submitted by the United States.\n",
      "0.09523809523809523 : The US proposal included provisions for Turkey’s defense, the use of NATO equipment, and NATO’s postwar role in Iraq.  \n",
      "0.03571428571428571 : February 10, 2003 - France, Germany and Belgium block a US request that NATO provide Patriot missiles, Airborne Warning and Control System (AWACS) aircraft, and other equipment to Turkey.\n",
      "0.10526315789473684 : The United States had made the request anticipating that Iraq will retaliate against Turkey in the event of war.\n",
      "0.043478260869565216 : Turkey invokes article IV of the NATO charter, which requires the organization as a whole to discuss security threats to any member nation.  \n",
      "0.0 : February 16, 2003 -\n",
      "0.09302325581395349 : NATO produces three defensive plans for Turkey, in the event of a US war with Iraq:- Deployment of NATO AWACS aircraft; - NATO support for the deployment of theatre missile defenses for Turkey; - NATO support for possible deployment of Allied chemical and biological defenses.  \n",
      "0.06666666666666667 : March 29, 2004 - NATO is expanded from 19 to 26 members when seven nations, Bulgaria, Estonia, Latvia, Lithuania, Romania, Slovakia, and Slovenia, join in an accession ceremony in Washington, DC.\n",
      "0.125 : All are former communist states in Eastern Europe.  \n",
      "0.0625 : August 10, 2004 - NATO AWACS begin patrolling Greek airspace prior to the Olympic and Paralympic games.\n",
      "0.045454545454545456 : NATO’s presence at the Olympics is nicknamed Distinguished Games and includes AWACS and the Multinational Chemical Biological Radiological Nuclear Task Force.  \n",
      "0.08695652173913043 : September 14, 2006 - Ukraine announces that it is shelving its aspirations to join NATO, due to opposition by the Ukrainian public and Russia.  \n",
      "0.08333333333333333 : April 2-4, 2008 - NATO leaders hold a summit in Bucharest, Romania.\n",
      "0.0 : Croatia and Albania are invited to join the alliance.  \n",
      "0.047619047619047616 : June 17, 2008 - French President Nicolas Sarkozy announces France will soon rejoin NATO’s military command, 40 years after it left.  \n",
      "0.0 : April 3-4, 2009 -\n",
      "0.2 : The 23rd NATO summit also marks NATO’s 60th anniversary.\n",
      "0.1111111111111111 : During the summit, France rejoins NATO’s military command.   \n",
      "0.058823529411764705 : November 19, 2010 - NATO adopts the Strategic Concept “Active Engagement, Modern Defence” for the next 10 years.  \n",
      "0.3333333333333333 : March 24, 2011 -\n",
      "0.125 : NATO takes command of enforcing a no-fly zone imposed on Libya by the United Nations.  \n",
      "0.0625 : March 29, 2011 - The Council of Europe rules NATO, among others, responsible for the 63 deaths of African immigrants left adrift for two weeks while attempting to reach European shores from Libya.  \n",
      "0.05555555555555555 : May 19, 2012 - Demonstrators take to the streets of Chicago prior to the start of the NATO summit.\n",
      "0.038461538461538464 : Anti-NATO protests near Mayor Rahm Emanuel’s home focus on the cost of the summit to the city and city budget cuts to mental healthcare.  \n",
      "0.0 : May 20-21, 2012 -\n",
      "0.0 : The 25th Summit is held in Chicago.\n",
      "0.05263157894736842 : During the summit, NATO accepts US President Barack Obama’s timetable to end the war in Afghanistan by 2014.  \n",
      "0.10909090909090909 : March 5, 2014 - In regard to the crisis in Ukraine, Secretary General Anders Fogh Rasmussen announces that NATO has decided to “put the entire range of NATO-Russia cooperation under review” to send “a clear message Russia’s actions have consequences.”  December 2, 2015 - NATO extends an official invitation to Montenegro to join the alliance.   \n",
      "0.03571428571428571 : February 11, 2016 - Secretary General Stoltenberg announces that NATO is deploying ships to the Aegean Sea to try to deter smugglers from trafficking migrants from Turkey to Greece.  \n",
      "0.1 : June 5, 2017 - Montenegro officially becomes a member of NATO.\n",
      "0.25 : March 27, 2020 - North Macedonia officially joins NATO.\n",
      "0.17647058823529413 : March 24, 2022 - NATO leaders issue a joint statement in response to Russia’s invasion of Ukraine.\n",
      "0.0 : Leaders call on President Vladimir Putin to withdraw Russian military forces, and call on Belarus to end its complicity.  \n",
      "0.025 : May 15, 2022 - Finland’s government says it intends to join NATO, ditching decades of neutrality and ignoring Russian threats of possible retaliation as the Nordic country attempts to strengthen its security following the onset of the war in Ukraine.\n",
      "0.0 : Sweden’s ruling party later said it will also support joining the alliance.  \n",
      "0.1 : April 4, 2023 - Finland becomes the 31st member of NATO.  \n",
      "0.18181818181818182 : March 7, 2024 - Sweden officially joins NATO, becoming the 32nd member.  \n",
      "0.05263157894736842 : April 4, 2024 - Allied foreign affairs ministers meet at the headquarters in Brussels, commemorating the 75th anniversary of NATO.  \n"
     ]
    }
   ],
   "source": [
    "sentences = list(doc.sents) # Finds score for each sentence\n",
    "for sentence in sentences:\n",
    "    count1= 0\n",
    "    for token in sentence:\n",
    "        if token.text.lower() in best_tokens:\n",
    "            count1+= 1\n",
    "    count2 = 0\n",
    "    for token in sentence:\n",
    "        if not(token.is_space or token.is_punct):\n",
    "            count2 += 1\n",
    "    sent_str = str(sentence).replace('\\n','').replace('  ',' ')\n",
    "    print(count1/count2,':',sent_str)"
   ]
  },
  {
   "cell_type": "code",
   "execution_count": 21,
   "metadata": {},
   "outputs": [
    {
     "name": "stdout",
     "output_type": "stream",
     "text": [
      "TokensLIST = [0.0967741935483871, 0.023809523809523808, 0.3333333333333333, 0.0, 0.10526315789473684, 0.3333333333333333, 0.0, 0.020833333333333332, 0.1, 0.09090909090909091, 0.0, 0.0, 0.14285714285714285, 0.10714285714285714, 0.0, 0.06666666666666667, 0.0, 0.14285714285714285, 0.0, 0.05555555555555555, 0.0, 0.1276595744680851, 0.14814814814814814, 0.14285714285714285, 0.0967741935483871, 0.06666666666666667, 0.09090909090909091, 0.0, 0.0, 0.047619047619047616, 0.05263157894736842, 0.0, 0.0, 0.06666666666666667, 0.1111111111111111, 0.0, 0.0, 0.09090909090909091, 0.0, 0.0, 0.13043478260869565, 0.11764705882352941, 0.0, 0.1111111111111111, 0.23809523809523808, 0.03278688524590164, 0.125, 0.09523809523809523, 0.03571428571428571, 0.10526315789473684, 0.043478260869565216, 0.0, 0.09302325581395349, 0.06666666666666667, 0.125, 0.0625, 0.045454545454545456, 0.08695652173913043, 0.08333333333333333, 0.0, 0.047619047619047616, 0.0, 0.2, 0.1111111111111111, 0.058823529411764705, 0.3333333333333333, 0.125, 0.0625, 0.05555555555555555, 0.038461538461538464, 0.0, 0.0, 0.05263157894736842, 0.10909090909090909, 0.03571428571428571, 0.1, 0.25, 0.17647058823529413, 0.0, 0.025, 0.0, 0.1, 0.18181818181818182, 0.05263157894736842]\n"
     ]
    }
   ],
   "source": [
    "tscores = []\n",
    "for sentence in sentences:\n",
    "    count1= 0\n",
    "    for token in sentence:\n",
    "        if token.text.lower() in best_tokens:\n",
    "            count1 += 1\n",
    "    count2 = 0\n",
    "    for token in sentence:\n",
    "        if not(token.is_space or token.is_punct):\n",
    "            count2 += 1\n",
    "    score = count1 / count2 if count2 > 0 else 0\n",
    "    tscores.append(score)\n",
    "\n",
    "print(\"TokensLIST =\", tscores)"
   ]
  },
  {
   "cell_type": "code",
   "execution_count": 23,
   "metadata": {},
   "outputs": [
    {
     "data": {
      "image/png": "[encoded data removed]",
      "text/plain": [
       "<Figure size 640x480 with 1 Axes>"
      ]
     },
     "metadata": {},
     "output_type": "display_data"
    }
   ],
   "source": [
    "import numpy as np\n",
    "import pandas as pd\n",
    "import matplotlib.pyplot as plt\n",
    "# Plot histogram\n",
    "plt.hist(tscores)\n",
    "plt.title('Sentence Score Frequency Using Tokens')\n",
    "plt.xlabel('Score')\n",
    "plt.ylabel('Frequency')\n",
    "plt.show()"
   ]
  },
  {
   "cell_type": "markdown",
   "metadata": {},
   "source": [
    "## Question 6"
   ]
  },
  {
   "cell_type": "markdown",
   "metadata": {},
   "source": [
    "6. Make a list containing the scores (using lemmas) of every sentence in the article, and plot a histogram with appropriate titles and axis labels of the scores.  From your histogram, what seems to be the most common range of scores (put the answer in a comment after your code)?"
   ]
  },
  {
   "cell_type": "code",
   "execution_count": 24,
   "metadata": {},
   "outputs": [
    {
     "name": "stdout",
     "output_type": "stream",
     "text": [
      "0.0967741935483871 : NATO flag at the NATO headquarters in BrusselsKENZO TRIBOUILLARD/AFP/AFP via Getty ImagesCNN     —         Here’s a look at the North Atlantic Treaty Organization (NATO), headquartered in Brussels, Belgium.    \n",
      "0.0 : Facts      The organization’s charter states that the signing parties will “seek to promote stability and well-being in the North Atlantic area,” and will “unite their efforts for collective defense and for the preservation of peace and security.”  April 4, 1949 -\n",
      "0.3333333333333333 : NATO is established.  \n",
      "0.0 : 2014-present - The current secretary general is Jens Stoltenberg, former prime minister of Norway.\n",
      "0.10526315789473684 : On March 24, 2022, Stoltenberg’s tenure was extended by one year due to Russia’s invasion of Ukraine.  \n",
      "0.3333333333333333 : March 14, 2024 -\n",
      "0.0 : The secretary general’s annual report is released.    \n",
      "0.020833333333333332 : 32 Member Countries      Albania (2009)Belgium (1949)Bulgaria (2004)Canada (1949)Croatia (2009)Czech Republic (1999)Denmark (1949)Estonia (2004)Finland (2023)France (1949)Germany (1955, as West Germany)Greece (1952)Hungary (1999)Iceland (1949)Italy (1949)Latvia (2004)Lithuania (2004)Luxembourg (1949)Montenegro (2017)Netherlands (1949)North Macedonia (2020)Norway (1949)Poland (1999)Portugal (1949)Romania (2004)Slovakia (2004)Slovenia (2004)Spain (1982)Sweden (2024)Turkey (1952)United Kingdom (1949)United States (1949)    Timeline (selected)April 4, 1949 -\n",
      "0.03333333333333333 : The 12 nations of Belgium, Canada, Denmark, France, Iceland, Italy, Luxembourg, the Netherlands, Norway, Portugal, the United Kingdom and the United States sign the North Atlantic Treaty in Washington, DC.  \n",
      "0.09090909090909091 : July 25, 1950 - First meeting of NATO Council Deputies in London.\n",
      "0.0 : US Ambassador Charles M. Spofford is elected permanent chairman.   \n",
      "0.0 : December 19, 1950 - US General Dwight Eisenhower is appointed the first supreme allied commander.\n",
      "0.14285714285714285 : The position leads NATO’s military operations.  \n",
      "0.10714285714285714 : March 12, 1952 - Lord Ismay is named the first secretary general of NATO and appointed vice chairman of the North Atlantic Council, which oversees NATO’s political decisions.   \n",
      "0.0 : April 16, 1952 -\n",
      "0.06666666666666667 : NATO establishes its provisional headquarters in Paris at the Palais de Chaillot.  April 28, 1952 -\n",
      "0.0 : First meeting of the North Atlantic Council in permanent session in Paris.   \n",
      "0.2857142857142857 : May 6, 1952 - West Germany joins NATO.  \n",
      "0.0 : May 14, 1955 -\n",
      "0.1111111111111111 : The Soviet Union and Eastern Bloc countries form the Warsaw Pact in response to West Germany joining NATO.   \n",
      "0.0 : July 26, 1956 - Egypt nationalizes the Suez Canal.\n",
      "0.0851063829787234 : France and Great Britain use troops to intervene, against the wishes of the United States, causing a rift in NATO.  October 22-23, 1963 - NATO and the United States demonstrate the size and speed of emergency forces when flying 14,500 US troops into West Germany for maneuvers.  \n",
      "0.1111111111111111 : March 10, 1966 - France formally announces intentions to withdraw from the military structure of NATO, accusing the United States of having too much influence in the organization.   \n",
      "0.14285714285714285 : March 31, 1967 - Opening ceremony of new NATO headquarters in Casteau, near Mons, Belgium.  \n",
      "0.0967741935483871 : August 14, 1974 - Greece, angered at NATO’s response to the Turkish invasion of Cyprus, withdraws from the military arm of NATO.  October 20, 1980 - Greece rejoins the NATO military structure.  \n",
      "0.13333333333333333 : May 30, 1982 - Spain joins NATO.  October 3, 1990 - Germany is reunified after 45 years.\n",
      "0.09090909090909091 : East Germany leaves the Warsaw Pact and is incorporated into NATO.\n",
      "0.0 : In 1991, the Warsaw Pact is dissolved.\n",
      "0.0 : December 13, 1991 -\n",
      "0.047619047619047616 : For the first time, the Soviet Union takes part in meetings at NATO as part of the North Atlantic Cooperation Council.   \n",
      "0.05263157894736842 : December 21, 1991 - Eleven of the republics of the former Soviet Union create a new Commonwealth of Independent States.\n",
      "0.0 : On December 25, the Soviet Union is officially disbanded with the resignation of Mikhail Gorbachev as president and supreme commander-in-chief of Soviet Forces.  \n",
      "0.0 : February 28, 1994 -\n",
      "0.06666666666666667 : NATO forces shoot down four Bosnian Serb planes violating the UN-imposed no-fly zone.\n",
      "0.1111111111111111 : It is the first time NATO has used force.  \n",
      "0.0 : November 21, 1995 -\n",
      "0.0 : After the Dayton Peace Accords, the war in Bosnia Herzegovina ends.\n",
      "0.09090909090909091 : In December, NATO deploys Implementation Force (IFOR) to support the agreement.  \n",
      "0.0 : January 13, 1996 - Russian troops are deployed to support IFOR in Bosnia.  \n",
      "0.0 : May 22, 1997 -\n",
      "0.13043478260869565 : NATO and the Russian Federation sign a security and cooperation pact, the “Founding Act” which establishes a NATO-Russia Permanent Joint Council (PJC).  \n",
      "0.11764705882352941 : March 24, 1999 - NATO launches air strikes against Yugoslavia to end Serbian aggression in the Kosovo region.  \n",
      "0.0 : September 12, 2001 -\n",
      "0.07407407407407407 : For the first time, NATO invokes Article V, the Washington Treaty, its mutual defense clause, in support of the United States after the September 11 terror attacks. \n",
      "0.23809523809523808 : May 28, 2002 - NATO and Russia form the NATO-Russia Council (NRC), which makes Russia an associate member of the organization.\n",
      "0.03278688524590164 : The NRC replaces the PJC.  November 21-22, 2002 - During the Prague Summit, NATO invites seven former Eastern Bloc countries, Bulgaria, Estonia, Latvia, Lithuania, Romania, Slovakia and Slovenia, to discuss entry into the organization.  December 4, 2002 - US Deputy Defense Secretary Paul Wolfowitz speaks before NATO in Brussels and requests that member nations contribute forces to a potential campaign in Iraq.  \n",
      "0.0625 : January 22, 2003 - France and Germany block discussion on war preparations submitted by the United States.\n",
      "0.09523809523809523 : The US proposal included provisions for Turkey’s defense, the use of NATO equipment, and NATO’s postwar role in Iraq.  \n",
      "0.03571428571428571 : February 10, 2003 - France, Germany and Belgium block a US request that NATO provide Patriot missiles, Airborne Warning and Control System (AWACS) aircraft, and other equipment to Turkey.\n",
      "0.05263157894736842 : The United States had made the request anticipating that Iraq will retaliate against Turkey in the event of war.\n",
      "0.043478260869565216 : Turkey invokes article IV of the NATO charter, which requires the organization as a whole to discuss security threats to any member nation.  \n",
      "0.0 : February 16, 2003 -\n",
      "0.09302325581395349 : NATO produces three defensive plans for Turkey, in the event of a US war with Iraq:- Deployment of NATO AWACS aircraft; - NATO support for the deployment of theatre missile defenses for Turkey; - NATO support for possible deployment of Allied chemical and biological defenses.  \n",
      "0.1 : March 29, 2004 - NATO is expanded from 19 to 26 members when seven nations, Bulgaria, Estonia, Latvia, Lithuania, Romania, Slovakia, and Slovenia, join in an accession ceremony in Washington, DC.\n",
      "0.0 : All are former communist states in Eastern Europe.  \n",
      "0.0625 : August 10, 2004 - NATO AWACS begin patrolling Greek airspace prior to the Olympic and Paralympic games.\n",
      "0.045454545454545456 : NATO’s presence at the Olympics is nicknamed Distinguished Games and includes AWACS and the Multinational Chemical Biological Radiological Nuclear Task Force.  \n",
      "0.13043478260869565 : September 14, 2006 - Ukraine announces that it is shelving its aspirations to join NATO, due to opposition by the Ukrainian public and Russia.  \n",
      "0.08333333333333333 : April 2-4, 2008 - NATO leaders hold a summit in Bucharest, Romania.\n",
      "0.1111111111111111 : Croatia and Albania are invited to join the alliance.  \n",
      "0.047619047619047616 : June 17, 2008 - French President Nicolas Sarkozy announces France will soon rejoin NATO’s military command, 40 years after it left.  \n",
      "0.0 : April 3-4, 2009 -\n",
      "0.2 : The 23rd NATO summit also marks NATO’s 60th anniversary.\n",
      "0.1111111111111111 : During the summit, France rejoins NATO’s military command.   \n",
      "0.058823529411764705 : November 19, 2010 - NATO adopts the Strategic Concept “Active Engagement, Modern Defence” for the next 10 years.  \n",
      "0.3333333333333333 : March 24, 2011 -\n",
      "0.0625 : NATO takes command of enforcing a no-fly zone imposed on Libya by the United Nations.  \n",
      "0.0625 : March 29, 2011 - The Council of Europe rules NATO, among others, responsible for the 63 deaths of African immigrants left adrift for two weeks while attempting to reach European shores from Libya.  \n",
      "0.05555555555555555 : May 19, 2012 - Demonstrators take to the streets of Chicago prior to the start of the NATO summit.\n",
      "0.038461538461538464 : Anti-NATO protests near Mayor Rahm Emanuel’s home focus on the cost of the summit to the city and city budget cuts to mental healthcare.  \n",
      "0.0 : May 20-21, 2012 -\n",
      "0.0 : The 25th Summit is held in Chicago.\n",
      "0.05263157894736842 : During the summit, NATO accepts US President Barack Obama’s timetable to end the war in Afghanistan by 2014.  \n",
      "0.12727272727272726 : March 5, 2014 - In regard to the crisis in Ukraine, Secretary General Anders Fogh Rasmussen announces that NATO has decided to “put the entire range of NATO-Russia cooperation under review” to send “a clear message Russia’s actions have consequences.”  December 2, 2015 - NATO extends an official invitation to Montenegro to join the alliance.   \n",
      "0.03571428571428571 : February 11, 2016 - Secretary General Stoltenberg announces that NATO is deploying ships to the Aegean Sea to try to deter smugglers from trafficking migrants from Turkey to Greece.  \n",
      "0.1 : June 5, 2017 - Montenegro officially becomes a member of NATO.\n",
      "0.375 : March 27, 2020 - North Macedonia officially joins NATO.\n",
      "0.17647058823529413 : March 24, 2022 - NATO leaders issue a joint statement in response to Russia’s invasion of Ukraine.\n",
      "0.0 : Leaders call on President Vladimir Putin to withdraw Russian military forces, and call on Belarus to end its complicity.  \n",
      "0.05 : May 15, 2022 - Finland’s government says it intends to join NATO, ditching decades of neutrality and ignoring Russian threats of possible retaliation as the Nordic country attempts to strengthen its security following the onset of the war in Ukraine.\n",
      "0.07692307692307693 : Sweden’s ruling party later said it will also support joining the alliance.  \n",
      "0.1 : April 4, 2023 - Finland becomes the 31st member of NATO.  \n",
      "0.2727272727272727 : March 7, 2024 - Sweden officially joins NATO, becoming the 32nd member.  \n",
      "0.05263157894736842 : April 4, 2024 - Allied foreign affairs ministers meet at the headquarters in Brussels, commemorating the 75th anniversary of NATO.  \n"
     ]
    }
   ],
   "source": [
    "sentences = list(doc.sents)\n",
    "for sentence in sentences:\n",
    "    count1= 0\n",
    "    for lemma in sentence:\n",
    "        if lemma.lemma_.lower() in best_lemmas:\n",
    "            count1+= 1\n",
    "    count2 = 0\n",
    "    for lemma in sentence:\n",
    "        if not(lemma.is_space or lemma.is_punct):\n",
    "            count2 += 1\n",
    "    sent_str = str(sentence).replace('\\n','').replace('  ',' ')\n",
    "    print(count1/count2,':',sent_str)"
   ]
  },
  {
   "cell_type": "code",
   "execution_count": 25,
   "metadata": {},
   "outputs": [
    {
     "name": "stdout",
     "output_type": "stream",
     "text": [
      "LemmasLIST = [0.0967741935483871, 0.0, 0.3333333333333333, 0.0, 0.10526315789473684, 0.3333333333333333, 0.0, 0.020833333333333332, 0.03333333333333333, 0.09090909090909091, 0.0, 0.0, 0.14285714285714285, 0.10714285714285714, 0.0, 0.06666666666666667, 0.0, 0.2857142857142857, 0.0, 0.1111111111111111, 0.0, 0.0851063829787234, 0.1111111111111111, 0.14285714285714285, 0.0967741935483871, 0.13333333333333333, 0.09090909090909091, 0.0, 0.0, 0.047619047619047616, 0.05263157894736842, 0.0, 0.0, 0.06666666666666667, 0.1111111111111111, 0.0, 0.0, 0.09090909090909091, 0.0, 0.0, 0.13043478260869565, 0.11764705882352941, 0.0, 0.07407407407407407, 0.23809523809523808, 0.03278688524590164, 0.0625, 0.09523809523809523, 0.03571428571428571, 0.05263157894736842, 0.043478260869565216, 0.0, 0.09302325581395349, 0.1, 0.0, 0.0625, 0.045454545454545456, 0.13043478260869565, 0.08333333333333333, 0.1111111111111111, 0.047619047619047616, 0.0, 0.2, 0.1111111111111111, 0.058823529411764705, 0.3333333333333333, 0.0625, 0.0625, 0.05555555555555555, 0.038461538461538464, 0.0, 0.0, 0.05263157894736842, 0.12727272727272726, 0.03571428571428571, 0.1, 0.375, 0.17647058823529413, 0.0, 0.05, 0.07692307692307693, 0.1, 0.2727272727272727, 0.05263157894736842]\n"
     ]
    }
   ],
   "source": [
    "# Initialize list to store lemma scores\n",
    "lscores = []\n",
    "\n",
    "# Loop through each sentence to calculate lemma scores\n",
    "for sentence in sentences:\n",
    "    count1 = 0\n",
    "    for token in sentence:\n",
    "        if token.lemma_.lower() in best_lemmas:\n",
    "            count1 += 1\n",
    "    \n",
    "    count2 = 0\n",
    "    for token in sentence:\n",
    "        if not (token.is_space or token.is_punct):\n",
    "            count2 += 1\n",
    "    \n",
    "    # Calculate lemma score for the sentence\n",
    "    score = count1 / count2 if count2 > 0 else 0\n",
    "    lscores.append(score)\n",
    "\n",
    "# Print the list of lemma scores\n",
    "print(\"LemmasLIST =\", lscores)"
   ]
  },
  {
   "cell_type": "code",
   "execution_count": 26,
   "metadata": {},
   "outputs": [
    {
     "data": {
      "image/png": "[encoded data removed]",
      "text/plain": [
       "<Figure size 640x480 with 1 Axes>"
      ]
     },
     "metadata": {},
     "output_type": "display_data"
    }
   ],
   "source": [
    "# Plot histogram\n",
    "plt.hist(lscores)\n",
    "plt.title('Sentence Score Frequency Using Lemmas')\n",
    "plt.xlabel('Score')\n",
    "plt.ylabel('Frequency')\n",
    "plt.show()"
   ]
  },
  {
   "cell_type": "markdown",
   "metadata": {},
   "source": [
    "## Question 7"
   ]
  },
  {
   "cell_type": "markdown",
   "metadata": {},
   "source": [
    "7. Using the histograms from questions 5 and 6, decide a \"cutoff\" score for tokens and lemmas such that fewer than half the sentences would have a score greater than the cutoff score.  Record the scores in this Markdown cell\n",
    "\n",
    "* Cutoff Score (tokens): 0.12\n",
    "* Cutoff Score (lemmas): 0.11\n",
    "\n",
    "Feel free to change these scores as you generate your summaries.  Ideally, we're shooting for at least 6 sentences for our summary, but don't want more than 10 (these numbers are rough estimates; they depend on the length of your article)."
   ]
  },
  {
   "cell_type": "code",
   "execution_count": 27,
   "metadata": {},
   "outputs": [
    {
     "name": "stdout",
     "output_type": "stream",
     "text": [
      "Cutoff Score (tokens): 0.12058823529411769\n"
     ]
    }
   ],
   "source": [
    "## To calculate the ideal cutoff score for tokens, the Percentile was used.\r\n",
    "import numpy as np\r\n",
    "\r\n",
    "# Convert the list of sentiment scores to a numpy array for easier calculation\r\n",
    "scores_array = np.array(tscores)\r\n",
    "\r\n",
    "# Calculate the cutoff score as the 25th percentile\r\n",
    "cutoff_score_tokens = np.percentile(scores_array, 80)\r\n",
    "\r\n",
    "print(\"Cutoff Score (tokens):\", cutoff_score_tokens)"
   ]
  },
  {
   "cell_type": "code",
   "execution_count": 28,
   "metadata": {},
   "outputs": [
    {
     "name": "stdout",
     "output_type": "stream",
     "text": [
      "Cutoff Score (lemmas): 0.1111111111111111\n"
     ]
    }
   ],
   "source": [
    "## To calculate the ideal cutoff score for lammas, the Percentile was used.\n",
    "import numpy as np\n",
    "\n",
    "# Convert the list of sentiment scores to a numpy array for easier calculation\n",
    "scores_array = np.array(lscores)\n",
    "\n",
    "# Calculate the cutoff score as the 25th percentile\n",
    "cutoff_score_lemmas = np.percentile(scores_array, 80)\n",
    "\n",
    "print(\"Cutoff Score (lemmas):\", cutoff_score_lemmas)"
   ]
  },
  {
   "cell_type": "code",
   "execution_count": 29,
   "metadata": {},
   "outputs": [
    {
     "name": "stdout",
     "output_type": "stream",
     "text": [
      "Mean Score: 0.07588990571364827\n",
      "Standard Deviation: 0.07693761868865755\n",
      "Cutoff Score (tokens): 0.13744000066457432\n"
     ]
    }
   ],
   "source": [
    "## To calculate the ideal cutoff score for tokens, the mean and std were used.\n",
    "import numpy as np\n",
    "\n",
    "# Convert the list of sentiment scores to a numpy array for easier calculation\n",
    "scores_array = np.array(tscores)\n",
    "\n",
    "# Calculate the mean and standard deviation of the sentiment scores\n",
    "mean_score = np.mean(scores_array)\n",
    "std_score = np.std(scores_array)\n",
    "\n",
    "# Add a certain number of standard deviations to the mean to determine the cutoff score\n",
    "# Adjust the multiplier as needed based on your requirements\n",
    "multiplier = 0.8  # You can adjust this multiplier based on your preference\n",
    "cutoff_score_tokens = mean_score + multiplier * std_score\n",
    "\n",
    "print(\"Mean Score:\", mean_score)\n",
    "print(\"Standard Deviation:\", std_score)\n",
    "print(\"Cutoff Score (tokens):\", cutoff_score_tokens)"
   ]
  },
  {
   "cell_type": "code",
   "execution_count": 32,
   "metadata": {},
   "outputs": [
    {
     "name": "stdout",
     "output_type": "stream",
     "text": [
      "Mean Score: 0.07921467977817642\n",
      "Standard Deviation: 0.08551492454990064\n",
      "Cutoff Score (lemmas): 0.14762661941809696\n"
     ]
    }
   ],
   "source": [
    "## To calculate the ideal cutoff score for lammas, the mean and std were used.\n",
    "import numpy as np\n",
    "\n",
    "# Convert the list of sentiment scores to a numpy array for easier calculation\n",
    "scores_array = np.array(lscores)\n",
    "\n",
    "# Calculate the mean and standard deviation of the sentiment scores\n",
    "mean_score = np.mean(scores_array)\n",
    "std_score = np.std(scores_array)\n",
    "\n",
    "# Add a certain number of standard deviations to the mean to determine the cutoff score\n",
    "# Adjust the multiplier as needed based on your requirements\n",
    "multiplier = 0.8  # You can adjust this multiplier based on your preference\n",
    "cutoff_score_lemmas = mean_score + multiplier * std_score\n",
    "\n",
    "print(\"Mean Score:\", mean_score)\n",
    "print(\"Standard Deviation:\", std_score)\n",
    "print(\"Cutoff Score (lemmas):\", cutoff_score_lemmas)"
   ]
  },
  {
   "cell_type": "markdown",
   "metadata": {},
   "source": [
    "## Question 8"
   ]
  },
  {
   "cell_type": "markdown",
   "metadata": {},
   "source": [
    "8.Create a summary of the article by going through every sentence in the article and adding it to an (initially) empty list if its score (based on tokens) is greater than the cutoff score you identified in question 8.  If your loop variable is named `sent`, you may find it easier to add `sent.text.strip()` to your list of sentences.  Print the summary (I would cleanly generate the summary text by `join`ing the strings in your list together with a space (`' '.join(sentence_list)`)."
   ]
  },
  {
   "cell_type": "code",
   "execution_count": 33,
   "metadata": {},
   "outputs": [
    {
     "name": "stdout",
     "output_type": "stream",
     "text": [
      "Summary:\n",
      "NATO is established. March 14, 2024 - The position leads NATO’s military operations. May 6, 1952 - West Germany joins NATO. France and Great Britain use troops to intervene, against the wishes of the United States, causing a rift in NATO.\n",
      "    \n",
      "\n",
      "October 22-23, 1963 - NATO and the United States demonstrate the size and speed of emergency forces when flying 14,500 US troops into West Germany for maneuvers. March 10, 1966 - France formally announces intentions to withdraw from the military structure of NATO, accusing the United States of having too much influence in the organization. March 31, 1967 - Opening ceremony of new NATO headquarters in Casteau, near Mons, Belgium. NATO and the Russian Federation sign a security and cooperation pact, the “Founding Act” which establishes a NATO-Russia Permanent Joint Council (PJC). May 28, 2002 - NATO and Russia form the NATO-Russia Council (NRC), which makes Russia an associate member of the organization. January 22, 2003 - France and Germany block discussion on war preparations submitted by the United States. All are former communist states in Eastern Europe. The 23rd NATO summit also marks NATO’s 60th anniversary. March 24, 2011 - NATO takes command of enforcing a no-fly zone imposed on Libya by the United Nations. March 27, 2020 - North Macedonia officially joins NATO. March 24, 2022 - NATO leaders issue a joint statement in response to Russia’s invasion of Ukraine. March 7, 2024 - Sweden officially joins NATO, becoming the 32nd member.\n"
     ]
    }
   ],
   "source": [
    "##### Initialize an empty list to store the sentences of the summary\n",
    "summary_sentences = []\n",
    "\n",
    "# Adjust the cutoff score to make the summary longer\n",
    "cutoff_score_tokens= 0.12\n",
    "\n",
    "# Iterate through each sentence in the article\n",
    "for sentence, score in zip(sentences, tscores):\n",
    "    # Check if the score of the sentence is greater than the lower cutoff score\n",
    "    if score > cutoff_score_tokens:\n",
    "        # Add the text of the sentence to the summary list after stripping any leading/trailing whitespace\n",
    "        summary_sentences.append(sentence.text.strip())\n",
    "\n",
    "# Generate the summary text by joining the sentences in the list together with a space\n",
    "summary_text = ' '.join(summary_sentences)\n",
    "\n",
    "# Print the summary text\n",
    "print(\"Summary:\")\n",
    "print(summary_text)"
   ]
  },
  {
   "cell_type": "markdown",
   "metadata": {},
   "source": [
    "## Question 9"
   ]
  },
  {
   "cell_type": "markdown",
   "metadata": {},
   "source": [
    "9. Print the polarity score of your summary you generated with the token scores (with an appropriate label). Additionally, print the number of sentences in the summarized article."
   ]
  },
  {
   "cell_type": "code",
   "execution_count": 34,
   "metadata": {},
   "outputs": [
    {
     "name": "stdout",
     "output_type": "stream",
     "text": [
      "Polarity Score of the Summary: 0.0\n",
      "Number of Sentences in the Summarized Article: 17\n"
     ]
    }
   ],
   "source": [
    "import spacy\n",
    "\n",
    "# Load a pre-trained spaCy pipeline for sentiment analysis\n",
    "nlp_sentiment = spacy.load(\"en_core_web_sm\")\n",
    "\n",
    "# Process the summary text using spaCy for sentiment analysis\n",
    "summary_doc = nlp_sentiment(summary_text)\n",
    "\n",
    "# Use the sentiment score of the summary directly as its polarity score\n",
    "summary_polarity_score = summary_doc.sentiment\n",
    "\n",
    "# Print the polarity score of the summary with an appropriate label\n",
    "print(\"Polarity Score of the Summary:\", summary_polarity_score)\n",
    "\n",
    "# Count the number of sentences in the summarized article\n",
    "num_sentences_summary = len(list(summary_doc.sents))\n",
    "\n",
    "# Print the number of sentences in the summarized article with an appropriate label\n",
    "print(\"Number of Sentences in the Summarized Article:\", num_sentences_summary)"
   ]
  },
  {
   "cell_type": "markdown",
   "metadata": {},
   "source": [
    "## Question 10"
   ]
  },
  {
   "cell_type": "markdown",
   "metadata": {},
   "source": [
    "10. Create a summary of the article by going through every sentence in the article and adding it to an (initially) empty list if its score (based on lemmas) is greater than the cutoff score you identified in question 8.  If your loop variable is named `sent`, you may find it easier to add `sent.text.strip()` to your list of sentences.  Print the summary (I would cleanly generate the summary text by `join`ing the strings in your list together with a space (`' '.join(sentence_list)`)."
   ]
  },
  {
   "cell_type": "code",
   "execution_count": 35,
   "metadata": {},
   "outputs": [
    {
     "name": "stdout",
     "output_type": "stream",
     "text": [
      "Summary based on Lemmas:\n",
      "NATO is established. March 14, 2024 - The position leads NATO’s military operations. May 6, 1952 - West Germany joins NATO. The Soviet Union and Eastern Bloc countries form the Warsaw Pact in response to West Germany joining NATO. March 10, 1966 - France formally announces intentions to withdraw from the military structure of NATO, accusing the United States of having too much influence in the organization. March 31, 1967 - Opening ceremony of new NATO headquarters in Casteau, near Mons, Belgium. May 30, 1982 - Spain joins NATO.\n",
      "    \n",
      "\n",
      "October 3, 1990 - Germany is reunified after 45 years. It is the first time NATO has used force. NATO and the Russian Federation sign a security and cooperation pact, the “Founding Act” which establishes a NATO-Russia Permanent Joint Council (PJC). March 24, 1999 - NATO launches air strikes against Yugoslavia to end Serbian aggression in the Kosovo region. May 28, 2002 - NATO and Russia form the NATO-Russia Council (NRC), which makes Russia an associate member of the organization. September 14, 2006 - Ukraine announces that it is shelving its aspirations to join NATO, due to opposition by the Ukrainian public and Russia. Croatia and Albania are invited to join the alliance. The 23rd NATO summit also marks NATO’s 60th anniversary. During the summit, France rejoins NATO’s military command. March 24, 2011 - March 5, 2014 - In regard to the crisis in Ukraine, Secretary General Anders Fogh Rasmussen announces that NATO has decided to “put the entire range of NATO-Russia cooperation under review” to send “a clear message Russia’s actions have consequences.”\n",
      "    \n",
      "\n",
      "December 2, 2015 - NATO extends an official invitation to Montenegro to join the alliance. March 27, 2020 - North Macedonia officially joins NATO. March 24, 2022 - NATO leaders issue a joint statement in response to Russia’s invasion of Ukraine. March 7, 2024 - Sweden officially joins NATO, becoming the 32nd member.\n"
     ]
    }
   ],
   "source": [
    "# Initialize an empty list to store the sentences of the summary based on lemmas\n",
    "summary_sentences_lemmas = []\n",
    "cutoff_score_lemmas = 0.11\n",
    "# Iterate through each sentence in the article\n",
    "for sentence, score in zip(sentences, lscores):\n",
    "    # Check if the score of the sentence is greater than the cutoff score\n",
    "    if score > cutoff_score_lemmas:\n",
    "        # Add the text of the sentence to the summary list after stripping any leading/trailing whitespace\n",
    "        summary_sentences_lemmas.append(sentence.text.strip())\n",
    "\n",
    "# Generate the summary text based on lemmas by joining the sentences in the list together with a space\n",
    "summary_text_lemmas = ' '.join(summary_sentences_lemmas)\n",
    "\n",
    "# Print the summary text based on lemmas\n",
    "print(\"Summary based on Lemmas:\")\n",
    "print(summary_text_lemmas)"
   ]
  },
  {
   "cell_type": "markdown",
   "metadata": {},
   "source": [
    "## Question 11"
   ]
  },
  {
   "cell_type": "markdown",
   "metadata": {},
   "source": [
    "11. Print the polarity score of your summary you generated with the lemma scores (with an appropriate label). Additionally, print the number of sentences in the summarized article."
   ]
  },
  {
   "cell_type": "code",
   "execution_count": 36,
   "metadata": {},
   "outputs": [
    {
     "name": "stdout",
     "output_type": "stream",
     "text": [
      "Polarity Score of the Summary (Lemmas): 0.0\n",
      "Number of Sentences in the Summarized Article (Lemmas): 20\n"
     ]
    }
   ],
   "source": [
    "import spacy\n",
    "\n",
    "# Load a pre-trained spaCy pipeline for sentiment analysis\n",
    "nlp_sentiment = spacy.load(\"en_core_web_sm\")\n",
    "\n",
    "# Process the summary text based on lemmas using spaCy for sentiment analysis\n",
    "summary_doc_lemmas = nlp_sentiment(summary_text_lemmas)\n",
    "\n",
    "# Calculate the polarity score of the summary based on lemmas\n",
    "summary_polarity_score_lemmas = summary_doc_lemmas.sentiment\n",
    "\n",
    "# Print the polarity score of the summary based on lemmas with an appropriate label\n",
    "print(\"Polarity Score of the Summary (Lemmas):\", summary_polarity_score_lemmas)\n",
    "\n",
    "# Count the number of sentences in the summarized article based on lemmas\n",
    "num_sentences_summary_lemmas = len(list(summary_doc_lemmas.sents))\n",
    "\n",
    "# Print the number of sentences in the summarized article based on lemmas with an appropriate label\n",
    "print(\"Number of Sentences in the Summarized Article (Lemmas):\", num_sentences_summary_lemmas)"
   ]
  },
  {
   "cell_type": "markdown",
   "metadata": {},
   "source": [
    "## Question 12"
   ]
  },
  {
   "cell_type": "markdown",
   "metadata": {},
   "source": [
    "12.  Compare your polarity scores of your summaries to the polarity scores of the initial article.  Is there a difference?  Why do you think that may or may not be?.  Answer in this Markdown cell. "
   ]
  },
  {
   "cell_type": "markdown",
   "metadata": {},
   "source": [
    "The polarity scores of my summaries for both tokens and lemmas were neutral, indicating no clear sentiment toward the topic. However, the initial article had evidently positive polarity scores for both tokens and lemmas, suggesting a positive sentiment toward the topic"
   ]
  },
  {
   "cell_type": "markdown",
   "metadata": {},
   "source": [
    " ## Question 13"
   ]
  },
  {
   "cell_type": "markdown",
   "metadata": {},
   "source": [
    "13. Based on your reading of the original article, which summary do you think is better (if there's a difference).  Why do you think this might be?"
   ]
  },
  {
   "cell_type": "markdown",
   "metadata": {},
   "source": [
    "Yes, the summary based on Lemmas is effective because it concisely and clearly covers major events in NATO's history in chronological order, which aids in understanding the organization's evolution and impact. It focuses on key milestones and decisions, making it useful for readers seeking a quick overview of NATO's most significant developments."
   ]
  }
 ],
 "metadata": {
  "kernelspec": {
   "display_name": "Python 3 (ipykernel)",
   "language": "python",
   "name": "python3"
  },
  "language_info": {
   "codemirror_mode": {
    "name": "ipython",
    "version": 3
   },
   "file_extension": ".py",
   "mimetype": "text/x-python",
   "name": "python",
   "nbconvert_exporter": "python",
   "pygments_lexer": "ipython3",
   "version": "3.12.2"
  }
 },
 "nbformat": 4,
 "nbformat_minor": 4
}
